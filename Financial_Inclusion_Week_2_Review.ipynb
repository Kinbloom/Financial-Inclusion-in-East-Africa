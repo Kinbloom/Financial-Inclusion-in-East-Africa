{
  "nbformat": 4,
  "nbformat_minor": 0,
  "metadata": {
    "colab": {
      "name": "Financial Inclusion - Week 2 Review.ipynb",
      "version": "0.3.2",
      "provenance": [],
      "collapsed_sections": [],
      "include_colab_link": true
    },
    "kernelspec": {
      "name": "python3",
      "display_name": "Python 3"
    },
    "accelerator": "GPU"
  },
  "cells": [
    {
      "cell_type": "markdown",
      "metadata": {
        "id": "view-in-github",
        "colab_type": "text"
      },
      "source": [
        "<a href=\"https://colab.research.google.com/github/Kinbloom/Financial-Inclusion-in-East-Africa/blob/master/Financial_Inclusion_Week_2_Review.ipynb\" target=\"_parent\"><img src=\"https://colab.research.google.com/assets/colab-badge.svg\" alt=\"Open In Colab\"/></a>"
      ]
    },
    {
      "cell_type": "markdown",
      "metadata": {
        "id": "FbHDncBwV5B8",
        "colab_type": "text"
      },
      "source": [
        "# Financial Inclusion in East Africa - Review\n",
        "\n",
        "#### Based on Kenya,Uganda,Tanzania and Rwanda."
      ]
    },
    {
      "cell_type": "markdown",
      "metadata": {
        "id": "v0XHiB6nhKjE",
        "colab_type": "text"
      },
      "source": [
        "**Research Question**\n",
        "\n",
        "What are the demographic factors to determine whether an individual has or uses a bank account or not? \n",
        "\n",
        "Here we test the variables that are significant either negatively or positively in determining their relationship with the dependent variable (has a bank account or not).\n",
        "\n",
        "**What is our hypothesis?**\n",
        "\n",
        "Null Hypothesis : The likelihood of having a bank account is dependent on the various factors included in the study (i.e. Employment Status, Marriage Status, Education Status etc.)\n",
        "\n",
        "Alternative Hypothesis : The likelihood of having a bank account is not dependent on the various factors included in the study.\n",
        "\n",
        "**What is the metric for success?**\n",
        "\n",
        "\n",
        "*   Study is considered successful if the null hypothesis is true.\n",
        "*   Design a model with an accuracy prediction of 85% and above for those with(out) bank accounts.\n",
        "\n",
        "\n",
        "\n"
      ]
    },
    {
      "cell_type": "markdown",
      "metadata": {
        "id": "olx6eeZvwieR",
        "colab_type": "text"
      },
      "source": [
        "### Import the necessary libraries."
      ]
    },
    {
      "cell_type": "code",
      "metadata": {
        "id": "3hJkoZQCwlFI",
        "colab_type": "code",
        "colab": {}
      },
      "source": [
        "#Import the necessary libraries\n",
        "\n",
        "import pandas as pd\n",
        "import numpy as np\n",
        "import seaborn as sns\n",
        "import matplotlib.pyplot as plt\n",
        "import warnings"
      ],
      "execution_count": 0,
      "outputs": []
    },
    {
      "cell_type": "markdown",
      "metadata": {
        "id": "jo07dC6NKH_c",
        "colab_type": "text"
      },
      "source": [
        "### Load the datasets to be used for the Exploratory Analysis."
      ]
    },
    {
      "cell_type": "code",
      "metadata": {
        "id": "KLtP7N41xML8",
        "colab_type": "code",
        "outputId": "fc82014d-de3c-44c9-b9a3-e96f51cf9577",
        "colab": {
          "base_uri": "https://localhost:8080/",
          "height": 421
        }
      },
      "source": [
        "#Load the Dataset that describes the dataset.\n",
        "\n",
        "variableDataset = pd.read_csv('http://bit.ly/VariableDefinitions')\n",
        "variableDataset"
      ],
      "execution_count": 0,
      "outputs": [
        {
          "output_type": "execute_result",
          "data": {
            "text/html": [
              "<div>\n",
              "<style scoped>\n",
              "    .dataframe tbody tr th:only-of-type {\n",
              "        vertical-align: middle;\n",
              "    }\n",
              "\n",
              "    .dataframe tbody tr th {\n",
              "        vertical-align: top;\n",
              "    }\n",
              "\n",
              "    .dataframe thead th {\n",
              "        text-align: right;\n",
              "    }\n",
              "</style>\n",
              "<table border=\"1\" class=\"dataframe\">\n",
              "  <thead>\n",
              "    <tr style=\"text-align: right;\">\n",
              "      <th></th>\n",
              "      <th>Variable Definitions</th>\n",
              "      <th>Unnamed: 1</th>\n",
              "    </tr>\n",
              "  </thead>\n",
              "  <tbody>\n",
              "    <tr>\n",
              "      <th>0</th>\n",
              "      <td>country</td>\n",
              "      <td>Country interviewee is in.</td>\n",
              "    </tr>\n",
              "    <tr>\n",
              "      <th>1</th>\n",
              "      <td>year</td>\n",
              "      <td>Year survey was done in.</td>\n",
              "    </tr>\n",
              "    <tr>\n",
              "      <th>2</th>\n",
              "      <td>uniqueid</td>\n",
              "      <td>Unique identifier for each interviewee</td>\n",
              "    </tr>\n",
              "    <tr>\n",
              "      <th>3</th>\n",
              "      <td>location_type</td>\n",
              "      <td>Type of location: Rural, Urban</td>\n",
              "    </tr>\n",
              "    <tr>\n",
              "      <th>4</th>\n",
              "      <td>cellphone_access</td>\n",
              "      <td>If interviewee has access to a cellphone: Yes, No</td>\n",
              "    </tr>\n",
              "    <tr>\n",
              "      <th>5</th>\n",
              "      <td>household_size</td>\n",
              "      <td>Number of people living in one house</td>\n",
              "    </tr>\n",
              "    <tr>\n",
              "      <th>6</th>\n",
              "      <td>age_of_respondent</td>\n",
              "      <td>The age of the interviewee</td>\n",
              "    </tr>\n",
              "    <tr>\n",
              "      <th>7</th>\n",
              "      <td>gender_of_respondent</td>\n",
              "      <td>Gender of interviewee: Male, Female</td>\n",
              "    </tr>\n",
              "    <tr>\n",
              "      <th>8</th>\n",
              "      <td>relationship_with_head</td>\n",
              "      <td>The interviewee’s relationship with the head o...</td>\n",
              "    </tr>\n",
              "    <tr>\n",
              "      <th>9</th>\n",
              "      <td>marital_status</td>\n",
              "      <td>The martial status of the interviewee: Married...</td>\n",
              "    </tr>\n",
              "    <tr>\n",
              "      <th>10</th>\n",
              "      <td>education_level</td>\n",
              "      <td>Highest level of education: No formal educatio...</td>\n",
              "    </tr>\n",
              "    <tr>\n",
              "      <th>11</th>\n",
              "      <td>job_type</td>\n",
              "      <td>Type of job interviewee has: Farming and Fishi...</td>\n",
              "    </tr>\n",
              "  </tbody>\n",
              "</table>\n",
              "</div>"
            ],
            "text/plain": [
              "      Variable Definitions                                         Unnamed: 1\n",
              "0                  country                         Country interviewee is in.\n",
              "1                     year                           Year survey was done in.\n",
              "2                 uniqueid             Unique identifier for each interviewee\n",
              "3            location_type                     Type of location: Rural, Urban\n",
              "4         cellphone_access  If interviewee has access to a cellphone: Yes, No\n",
              "5           household_size               Number of people living in one house\n",
              "6        age_of_respondent                         The age of the interviewee\n",
              "7     gender_of_respondent                Gender of interviewee: Male, Female\n",
              "8   relationship_with_head  The interviewee’s relationship with the head o...\n",
              "9           marital_status  The martial status of the interviewee: Married...\n",
              "10         education_level  Highest level of education: No formal educatio...\n",
              "11                job_type  Type of job interviewee has: Farming and Fishi..."
            ]
          },
          "metadata": {
            "tags": []
          },
          "execution_count": 3
        }
      ]
    },
    {
      "cell_type": "code",
      "metadata": {
        "id": "lKrsYCV1xSL1",
        "colab_type": "code",
        "outputId": "0d2fb276-36ae-4be0-ea6f-2ad3a9b562e0",
        "colab": {
          "base_uri": "https://localhost:8080/",
          "height": 377
        }
      },
      "source": [
        "#Load the Financial Dataset \n",
        "\n",
        "FinancialDataset = pd.read_csv('http://bit.ly/FinancialDataset')\n",
        "FinancialDataset.head()"
      ],
      "execution_count": 0,
      "outputs": [
        {
          "output_type": "execute_result",
          "data": {
            "text/html": [
              "<div>\n",
              "<style scoped>\n",
              "    .dataframe tbody tr th:only-of-type {\n",
              "        vertical-align: middle;\n",
              "    }\n",
              "\n",
              "    .dataframe tbody tr th {\n",
              "        vertical-align: top;\n",
              "    }\n",
              "\n",
              "    .dataframe thead th {\n",
              "        text-align: right;\n",
              "    }\n",
              "</style>\n",
              "<table border=\"1\" class=\"dataframe\">\n",
              "  <thead>\n",
              "    <tr style=\"text-align: right;\">\n",
              "      <th></th>\n",
              "      <th>country</th>\n",
              "      <th>year</th>\n",
              "      <th>uniqueid</th>\n",
              "      <th>Has a Bank account</th>\n",
              "      <th>Type of Location</th>\n",
              "      <th>Cell Phone Access</th>\n",
              "      <th>household_size</th>\n",
              "      <th>Respondent Age</th>\n",
              "      <th>gender_of_respondent</th>\n",
              "      <th>The relathip with head</th>\n",
              "      <th>marital_status</th>\n",
              "      <th>Level of Educuation</th>\n",
              "      <th>Type of Job</th>\n",
              "    </tr>\n",
              "  </thead>\n",
              "  <tbody>\n",
              "    <tr>\n",
              "      <th>0</th>\n",
              "      <td>Kenya</td>\n",
              "      <td>2018</td>\n",
              "      <td>uniqueid_1</td>\n",
              "      <td>Yes</td>\n",
              "      <td>Rural</td>\n",
              "      <td>Yes</td>\n",
              "      <td>3.0</td>\n",
              "      <td>24.0</td>\n",
              "      <td>Female</td>\n",
              "      <td>Spouse</td>\n",
              "      <td>Married/Living together</td>\n",
              "      <td>Secondary education</td>\n",
              "      <td>Self employed</td>\n",
              "    </tr>\n",
              "    <tr>\n",
              "      <th>1</th>\n",
              "      <td>Kenya</td>\n",
              "      <td>2018</td>\n",
              "      <td>uniqueid_2</td>\n",
              "      <td>No</td>\n",
              "      <td>Rural</td>\n",
              "      <td>No</td>\n",
              "      <td>5.0</td>\n",
              "      <td>70.0</td>\n",
              "      <td>Female</td>\n",
              "      <td>Head of Household</td>\n",
              "      <td>Widowed</td>\n",
              "      <td>No formal education</td>\n",
              "      <td>Government Dependent</td>\n",
              "    </tr>\n",
              "    <tr>\n",
              "      <th>2</th>\n",
              "      <td>Kenya</td>\n",
              "      <td>2018</td>\n",
              "      <td>uniqueid_3</td>\n",
              "      <td>Yes</td>\n",
              "      <td>Urban</td>\n",
              "      <td>Yes</td>\n",
              "      <td>5.0</td>\n",
              "      <td>26.0</td>\n",
              "      <td>Male</td>\n",
              "      <td>Other relative</td>\n",
              "      <td>Single/Never Married</td>\n",
              "      <td>Vocational/Specialised training</td>\n",
              "      <td>Self employed</td>\n",
              "    </tr>\n",
              "    <tr>\n",
              "      <th>3</th>\n",
              "      <td>Kenya</td>\n",
              "      <td>2018</td>\n",
              "      <td>uniqueid_4</td>\n",
              "      <td>No</td>\n",
              "      <td>Rural</td>\n",
              "      <td>Yes</td>\n",
              "      <td>5.0</td>\n",
              "      <td>34.0</td>\n",
              "      <td>Female</td>\n",
              "      <td>Head of Household</td>\n",
              "      <td>Married/Living together</td>\n",
              "      <td>Primary education</td>\n",
              "      <td>Formally employed Private</td>\n",
              "    </tr>\n",
              "    <tr>\n",
              "      <th>4</th>\n",
              "      <td>Kenya</td>\n",
              "      <td>2018</td>\n",
              "      <td>uniqueid_5</td>\n",
              "      <td>No</td>\n",
              "      <td>Urban</td>\n",
              "      <td>No</td>\n",
              "      <td>8.0</td>\n",
              "      <td>26.0</td>\n",
              "      <td>Male</td>\n",
              "      <td>Child</td>\n",
              "      <td>Single/Never Married</td>\n",
              "      <td>Primary education</td>\n",
              "      <td>Informally employed</td>\n",
              "    </tr>\n",
              "  </tbody>\n",
              "</table>\n",
              "</div>"
            ],
            "text/plain": [
              "  country  year  ...              Level of Educuation                Type of Job\n",
              "0   Kenya  2018  ...              Secondary education              Self employed\n",
              "1   Kenya  2018  ...              No formal education       Government Dependent\n",
              "2   Kenya  2018  ...  Vocational/Specialised training              Self employed\n",
              "3   Kenya  2018  ...                Primary education  Formally employed Private\n",
              "4   Kenya  2018  ...                Primary education        Informally employed\n",
              "\n",
              "[5 rows x 13 columns]"
            ]
          },
          "metadata": {
            "tags": []
          },
          "execution_count": 4
        }
      ]
    },
    {
      "cell_type": "code",
      "metadata": {
        "id": "l1Me9c5jxbwA",
        "colab_type": "code",
        "colab": {}
      },
      "source": [
        "#Rename the columns ; one-worded column names \n",
        "\n",
        "FinancialDataset.columns = FinancialDataset.columns.str.lower().str.replace(' ', '_')"
      ],
      "execution_count": 0,
      "outputs": []
    },
    {
      "cell_type": "markdown",
      "metadata": {
        "id": "EJXEue-5xtdF",
        "colab_type": "text"
      },
      "source": [
        "### Data Exploration"
      ]
    },
    {
      "cell_type": "code",
      "metadata": {
        "id": "vJdUAMtXxxPZ",
        "colab_type": "code",
        "outputId": "b2ddda4c-e7b3-4555-fd91-5c962fd3e8ee",
        "colab": {
          "base_uri": "https://localhost:8080/",
          "height": 323
        }
      },
      "source": [
        "#Find out the number of entries in each column, column data type\n",
        "\n",
        "FinancialDataset.info()"
      ],
      "execution_count": 0,
      "outputs": [
        {
          "output_type": "stream",
          "text": [
            "<class 'pandas.core.frame.DataFrame'>\n",
            "RangeIndex: 23524 entries, 0 to 23523\n",
            "Data columns (total 13 columns):\n",
            "country                   23510 non-null object\n",
            "year                      23524 non-null int64\n",
            "uniqueid                  23524 non-null object\n",
            "has_a_bank_account        23488 non-null object\n",
            "type_of_location          23509 non-null object\n",
            "cell_phone_access         23513 non-null object\n",
            "household_size            23496 non-null float64\n",
            "respondent_age            23490 non-null float64\n",
            "gender_of_respondent      23490 non-null object\n",
            "the_relathip_with_head    23520 non-null object\n",
            "marital_status            23492 non-null object\n",
            "level_of_educuation       23495 non-null object\n",
            "type_of_job               23494 non-null object\n",
            "dtypes: float64(2), int64(1), object(10)\n",
            "memory usage: 2.3+ MB\n"
          ],
          "name": "stdout"
        }
      ]
    },
    {
      "cell_type": "code",
      "metadata": {
        "id": "zaY-cfyKx8KE",
        "colab_type": "code",
        "outputId": "c755e7b1-a861-44eb-8206-87adcb4ea7ab",
        "colab": {
          "base_uri": "https://localhost:8080/",
          "height": 255
        }
      },
      "source": [
        "#Find out if there are missing values.\n",
        "\n",
        "FinancialDataset.isnull().sum()"
      ],
      "execution_count": 0,
      "outputs": [
        {
          "output_type": "execute_result",
          "data": {
            "text/plain": [
              "country                   14\n",
              "year                       0\n",
              "uniqueid                   0\n",
              "has_a_bank_account        36\n",
              "type_of_location          15\n",
              "cell_phone_access         11\n",
              "household_size            28\n",
              "respondent_age            34\n",
              "gender_of_respondent      34\n",
              "the_relathip_with_head     4\n",
              "marital_status            32\n",
              "level_of_educuation       29\n",
              "type_of_job               30\n",
              "dtype: int64"
            ]
          },
          "metadata": {
            "tags": []
          },
          "execution_count": 8
        }
      ]
    },
    {
      "cell_type": "code",
      "metadata": {
        "id": "Dwer8Pz2yBt7",
        "colab_type": "code",
        "colab": {}
      },
      "source": [
        "#Drop the rows that contain any form of missing or null value since they may result in inconsistencies.\n",
        "\n",
        "FinancialDataset.dropna(inplace = True)"
      ],
      "execution_count": 0,
      "outputs": []
    },
    {
      "cell_type": "code",
      "metadata": {
        "id": "x0jsPqfSyE9Z",
        "colab_type": "code",
        "outputId": "6beda93c-e617-40e9-bd36-02fa9b182f77",
        "colab": {
          "base_uri": "https://localhost:8080/",
          "height": 255
        }
      },
      "source": [
        "#Check to see if there are any null values. \n",
        "\n",
        "FinancialDataset.isnull().sum()"
      ],
      "execution_count": 0,
      "outputs": [
        {
          "output_type": "execute_result",
          "data": {
            "text/plain": [
              "country                   0\n",
              "year                      0\n",
              "uniqueid                  0\n",
              "has_a_bank_account        0\n",
              "type_of_location          0\n",
              "cell_phone_access         0\n",
              "household_size            0\n",
              "respondent_age            0\n",
              "gender_of_respondent      0\n",
              "the_relathip_with_head    0\n",
              "marital_status            0\n",
              "level_of_educuation       0\n",
              "type_of_job               0\n",
              "dtype: int64"
            ]
          },
          "metadata": {
            "tags": []
          },
          "execution_count": 10
        }
      ]
    },
    {
      "cell_type": "code",
      "metadata": {
        "id": "LblxaazhyK-M",
        "colab_type": "code",
        "outputId": "49224fc7-ed93-405c-eaa3-33184e3210a2",
        "colab": {
          "base_uri": "https://localhost:8080/",
          "height": 935
        }
      },
      "source": [
        "#What unique values are there in each column entry in the dataset?\n",
        "\n",
        "for i in FinancialDataset.columns:\n",
        " print(FinancialDataset[i].unique())\n",
        " print (\"\\n\")"
      ],
      "execution_count": 0,
      "outputs": [
        {
          "output_type": "stream",
          "text": [
            "['Kenya' 'Rwanda' 'Tanzania' 'Uganda']\n",
            "\n",
            "\n",
            "[2018 2029 2056 2016 2039 2017]\n",
            "\n",
            "\n",
            "['uniqueid_1' 'uniqueid_2' 'uniqueid_3' ... 'uniqueid_8757'\n",
            " 'uniqueid_8758' 'uniqueid_8759']\n",
            "\n",
            "\n",
            "['Yes' 'No']\n",
            "\n",
            "\n",
            "['Rural' 'Urban']\n",
            "\n",
            "\n",
            "['Yes' 'No']\n",
            "\n",
            "\n",
            "[ 3.  5.  8.  7.  1.  6.  4. 10.  2. 11.  9. 12. 16. 15. 13. 14. 21.  0.\n",
            " 18. 17. 20.]\n",
            "\n",
            "\n",
            "[ 24.  70.  26.  34.  32.  42.  54.  76.  40.  69.  64.  31.  38.  47.\n",
            "  27.  48.  25.  21.  18.  22.  58.  55.  62.  29.  35.  45.  67.  19.\n",
            "  80.  66.  50.  33.  28.  51.  16.  17.  30.  37.  59.  65.  46.  56.\n",
            "  52.  23.  43.  49.  44.  72.  53.  63.  39.  81.  78.  36.  20.  60.\n",
            "  95.  71.  57.  85.  68.  41.  61.  75.  86.  73.  93.  74.  88.  90.\n",
            "  77.  84.  82.  89.  79.  83.  94.  87.  92.  91.  98.  97.  96.  99.\n",
            " 100.]\n",
            "\n",
            "\n",
            "['Female' 'Male']\n",
            "\n",
            "\n",
            "['Spouse' 'Head of Household' 'Other relative' 'Child' 'Parent'\n",
            " 'Other non-relatives']\n",
            "\n",
            "\n",
            "['Married/Living together' 'Widowed' 'Single/Never Married'\n",
            " 'Divorced/Seperated' 'Dont know']\n",
            "\n",
            "\n",
            "['Secondary education' 'No formal education'\n",
            " 'Vocational/Specialised training' 'Primary education'\n",
            " 'Tertiary education' 'Other/Dont know/RTA' '6']\n",
            "\n",
            "\n",
            "['Self employed' 'Government Dependent' 'Formally employed Private'\n",
            " 'Informally employed' 'Formally employed Government'\n",
            " 'Farming and Fishing' 'Remittance Dependent' 'Other Income'\n",
            " 'Dont Know/Refuse to answer' 'No Income']\n",
            "\n",
            "\n"
          ],
          "name": "stdout"
        }
      ]
    },
    {
      "cell_type": "markdown",
      "metadata": {
        "id": "SMdskkSRMbjp",
        "colab_type": "text"
      },
      "source": [
        "The year column clearly contains an anomaly since there's the entry of years not included in the study. i.e. 2029,2039,2056.\n",
        "\n",
        "We must exclude those entries.\n",
        "\n",
        "\n"
      ]
    },
    {
      "cell_type": "code",
      "metadata": {
        "id": "SGemtUbgyVeN",
        "colab_type": "code",
        "colab": {}
      },
      "source": [
        "FinancialDataset = FinancialDataset[~((FinancialDataset.year == 2029) | (FinancialDataset.year == 2039) | (FinancialDataset.year == 2056 ))]"
      ],
      "execution_count": 0,
      "outputs": []
    },
    {
      "cell_type": "code",
      "metadata": {
        "id": "jHTuMAgPyY62",
        "colab_type": "code",
        "outputId": "77e828d9-6dbb-463e-9671-479d4190a1bb",
        "colab": {
          "base_uri": "https://localhost:8080/",
          "height": 34
        }
      },
      "source": [
        "FinancialDataset.year.unique()"
      ],
      "execution_count": 0,
      "outputs": [
        {
          "output_type": "execute_result",
          "data": {
            "text/plain": [
              "array([2018, 2016, 2017])"
            ]
          },
          "metadata": {
            "tags": []
          },
          "execution_count": 13
        }
      ]
    },
    {
      "cell_type": "markdown",
      "metadata": {
        "id": "LmraJEXjNi9R",
        "colab_type": "text"
      },
      "source": [
        "The anomaly has been corrected."
      ]
    },
    {
      "cell_type": "code",
      "metadata": {
        "id": "iRhdhJvGyf0P",
        "colab_type": "code",
        "colab": {}
      },
      "source": [
        "FinancialDataset.drop('uniqueid', axis = 1, inplace = True)"
      ],
      "execution_count": 0,
      "outputs": []
    },
    {
      "cell_type": "code",
      "metadata": {
        "id": "MiOj0oDhyjpf",
        "colab_type": "code",
        "outputId": "53e9b21f-5f66-4877-b91c-d529f0f2b037",
        "colab": {
          "base_uri": "https://localhost:8080/",
          "height": 238
        }
      },
      "source": [
        "FinancialDataset.dtypes\n",
        "\n",
        "#You need to change the data types to Category and the numerical columns remain as float64.\n",
        "\n",
        "for column in FinancialDataset[FinancialDataset.columns.difference(['household_size', 'respondent_age'])].columns:\n",
        "  FinancialDataset[column] = FinancialDataset[column].astype('category')\n",
        "  \n",
        "#Check the data types\n",
        "\n",
        "FinancialDataset.dtypes"
      ],
      "execution_count": 0,
      "outputs": [
        {
          "output_type": "execute_result",
          "data": {
            "text/plain": [
              "country                   category\n",
              "year                      category\n",
              "has_a_bank_account        category\n",
              "type_of_location          category\n",
              "cell_phone_access         category\n",
              "household_size             float64\n",
              "respondent_age             float64\n",
              "gender_of_respondent      category\n",
              "the_relathip_with_head    category\n",
              "marital_status            category\n",
              "level_of_educuation       category\n",
              "type_of_job               category\n",
              "dtype: object"
            ]
          },
          "metadata": {
            "tags": []
          },
          "execution_count": 15
        }
      ]
    },
    {
      "cell_type": "markdown",
      "metadata": {
        "id": "cTNQGAoNyrd0",
        "colab_type": "text"
      },
      "source": [
        "### Univariate Analysis"
      ]
    },
    {
      "cell_type": "code",
      "metadata": {
        "id": "p4D5KID1yvOE",
        "colab_type": "code",
        "outputId": "7bbbafa6-1913-4704-cdf3-4091f8d10661",
        "colab": {
          "base_uri": "https://localhost:8080/",
          "height": 165
        }
      },
      "source": [
        "#Load the first 2 values in the dataset\n",
        "FinancialDataset.head(2)"
      ],
      "execution_count": 0,
      "outputs": [
        {
          "output_type": "execute_result",
          "data": {
            "text/html": [
              "<div>\n",
              "<style scoped>\n",
              "    .dataframe tbody tr th:only-of-type {\n",
              "        vertical-align: middle;\n",
              "    }\n",
              "\n",
              "    .dataframe tbody tr th {\n",
              "        vertical-align: top;\n",
              "    }\n",
              "\n",
              "    .dataframe thead th {\n",
              "        text-align: right;\n",
              "    }\n",
              "</style>\n",
              "<table border=\"1\" class=\"dataframe\">\n",
              "  <thead>\n",
              "    <tr style=\"text-align: right;\">\n",
              "      <th></th>\n",
              "      <th>country</th>\n",
              "      <th>year</th>\n",
              "      <th>has_a_bank_account</th>\n",
              "      <th>type_of_location</th>\n",
              "      <th>cell_phone_access</th>\n",
              "      <th>household_size</th>\n",
              "      <th>respondent_age</th>\n",
              "      <th>gender_of_respondent</th>\n",
              "      <th>the_relathip_with_head</th>\n",
              "      <th>marital_status</th>\n",
              "      <th>level_of_educuation</th>\n",
              "      <th>type_of_job</th>\n",
              "    </tr>\n",
              "  </thead>\n",
              "  <tbody>\n",
              "    <tr>\n",
              "      <th>0</th>\n",
              "      <td>Kenya</td>\n",
              "      <td>2018</td>\n",
              "      <td>Yes</td>\n",
              "      <td>Rural</td>\n",
              "      <td>Yes</td>\n",
              "      <td>3.0</td>\n",
              "      <td>24.0</td>\n",
              "      <td>Female</td>\n",
              "      <td>Spouse</td>\n",
              "      <td>Married/Living together</td>\n",
              "      <td>Secondary education</td>\n",
              "      <td>Self employed</td>\n",
              "    </tr>\n",
              "    <tr>\n",
              "      <th>1</th>\n",
              "      <td>Kenya</td>\n",
              "      <td>2018</td>\n",
              "      <td>No</td>\n",
              "      <td>Rural</td>\n",
              "      <td>No</td>\n",
              "      <td>5.0</td>\n",
              "      <td>70.0</td>\n",
              "      <td>Female</td>\n",
              "      <td>Head of Household</td>\n",
              "      <td>Widowed</td>\n",
              "      <td>No formal education</td>\n",
              "      <td>Government Dependent</td>\n",
              "    </tr>\n",
              "  </tbody>\n",
              "</table>\n",
              "</div>"
            ],
            "text/plain": [
              "  country  year  ...  level_of_educuation           type_of_job\n",
              "0   Kenya  2018  ...  Secondary education         Self employed\n",
              "1   Kenya  2018  ...  No formal education  Government Dependent\n",
              "\n",
              "[2 rows x 12 columns]"
            ]
          },
          "metadata": {
            "tags": []
          },
          "execution_count": 16
        }
      ]
    },
    {
      "cell_type": "code",
      "metadata": {
        "id": "0iCQ7tsNzCJI",
        "colab_type": "code",
        "outputId": "e34903d5-73fd-4919-9d47-45199999beed",
        "colab": {
          "base_uri": "https://localhost:8080/",
          "height": 165
        }
      },
      "source": [
        "#Load the last 2 values in the dataset\n",
        "FinancialDataset.tail(2)"
      ],
      "execution_count": 0,
      "outputs": [
        {
          "output_type": "execute_result",
          "data": {
            "text/html": [
              "<div>\n",
              "<style scoped>\n",
              "    .dataframe tbody tr th:only-of-type {\n",
              "        vertical-align: middle;\n",
              "    }\n",
              "\n",
              "    .dataframe tbody tr th {\n",
              "        vertical-align: top;\n",
              "    }\n",
              "\n",
              "    .dataframe thead th {\n",
              "        text-align: right;\n",
              "    }\n",
              "</style>\n",
              "<table border=\"1\" class=\"dataframe\">\n",
              "  <thead>\n",
              "    <tr style=\"text-align: right;\">\n",
              "      <th></th>\n",
              "      <th>country</th>\n",
              "      <th>year</th>\n",
              "      <th>has_a_bank_account</th>\n",
              "      <th>type_of_location</th>\n",
              "      <th>cell_phone_access</th>\n",
              "      <th>household_size</th>\n",
              "      <th>respondent_age</th>\n",
              "      <th>gender_of_respondent</th>\n",
              "      <th>the_relathip_with_head</th>\n",
              "      <th>marital_status</th>\n",
              "      <th>level_of_educuation</th>\n",
              "      <th>type_of_job</th>\n",
              "    </tr>\n",
              "  </thead>\n",
              "  <tbody>\n",
              "    <tr>\n",
              "      <th>23522</th>\n",
              "      <td>Uganda</td>\n",
              "      <td>2018</td>\n",
              "      <td>No</td>\n",
              "      <td>Urban</td>\n",
              "      <td>Yes</td>\n",
              "      <td>7.0</td>\n",
              "      <td>30.0</td>\n",
              "      <td>Female</td>\n",
              "      <td>Parent</td>\n",
              "      <td>Divorced/Seperated</td>\n",
              "      <td>Secondary education</td>\n",
              "      <td>Self employed</td>\n",
              "    </tr>\n",
              "    <tr>\n",
              "      <th>23523</th>\n",
              "      <td>Uganda</td>\n",
              "      <td>2018</td>\n",
              "      <td>No</td>\n",
              "      <td>Rural</td>\n",
              "      <td>Yes</td>\n",
              "      <td>10.0</td>\n",
              "      <td>20.0</td>\n",
              "      <td>Male</td>\n",
              "      <td>Child</td>\n",
              "      <td>Single/Never Married</td>\n",
              "      <td>Secondary education</td>\n",
              "      <td>No Income</td>\n",
              "    </tr>\n",
              "  </tbody>\n",
              "</table>\n",
              "</div>"
            ],
            "text/plain": [
              "      country  year  ...  level_of_educuation    type_of_job\n",
              "23522  Uganda  2018  ...  Secondary education  Self employed\n",
              "23523  Uganda  2018  ...  Secondary education      No Income\n",
              "\n",
              "[2 rows x 12 columns]"
            ]
          },
          "metadata": {
            "tags": []
          },
          "execution_count": 17
        }
      ]
    },
    {
      "cell_type": "markdown",
      "metadata": {
        "id": "U-MzjmzRfJFt",
        "colab_type": "text"
      },
      "source": [
        "#### **Data Description.**"
      ]
    },
    {
      "cell_type": "code",
      "metadata": {
        "id": "RvShbfkMzJEv",
        "colab_type": "code",
        "outputId": "638060a4-c6b7-4d03-ead0-07c60dd580df",
        "colab": {
          "base_uri": "https://localhost:8080/",
          "height": 297
        }
      },
      "source": [
        "FinancialDataset.describe()"
      ],
      "execution_count": 0,
      "outputs": [
        {
          "output_type": "execute_result",
          "data": {
            "text/html": [
              "<div>\n",
              "<style scoped>\n",
              "    .dataframe tbody tr th:only-of-type {\n",
              "        vertical-align: middle;\n",
              "    }\n",
              "\n",
              "    .dataframe tbody tr th {\n",
              "        vertical-align: top;\n",
              "    }\n",
              "\n",
              "    .dataframe thead th {\n",
              "        text-align: right;\n",
              "    }\n",
              "</style>\n",
              "<table border=\"1\" class=\"dataframe\">\n",
              "  <thead>\n",
              "    <tr style=\"text-align: right;\">\n",
              "      <th></th>\n",
              "      <th>household_size</th>\n",
              "      <th>respondent_age</th>\n",
              "    </tr>\n",
              "  </thead>\n",
              "  <tbody>\n",
              "    <tr>\n",
              "      <th>count</th>\n",
              "      <td>23340.000000</td>\n",
              "      <td>23340.000000</td>\n",
              "    </tr>\n",
              "    <tr>\n",
              "      <th>mean</th>\n",
              "      <td>3.688560</td>\n",
              "      <td>38.807069</td>\n",
              "    </tr>\n",
              "    <tr>\n",
              "      <th>std</th>\n",
              "      <td>2.281275</td>\n",
              "      <td>16.519905</td>\n",
              "    </tr>\n",
              "    <tr>\n",
              "      <th>min</th>\n",
              "      <td>0.000000</td>\n",
              "      <td>16.000000</td>\n",
              "    </tr>\n",
              "    <tr>\n",
              "      <th>25%</th>\n",
              "      <td>2.000000</td>\n",
              "      <td>26.000000</td>\n",
              "    </tr>\n",
              "    <tr>\n",
              "      <th>50%</th>\n",
              "      <td>3.000000</td>\n",
              "      <td>35.000000</td>\n",
              "    </tr>\n",
              "    <tr>\n",
              "      <th>75%</th>\n",
              "      <td>5.000000</td>\n",
              "      <td>49.000000</td>\n",
              "    </tr>\n",
              "    <tr>\n",
              "      <th>max</th>\n",
              "      <td>21.000000</td>\n",
              "      <td>100.000000</td>\n",
              "    </tr>\n",
              "  </tbody>\n",
              "</table>\n",
              "</div>"
            ],
            "text/plain": [
              "       household_size  respondent_age\n",
              "count    23340.000000    23340.000000\n",
              "mean         3.688560       38.807069\n",
              "std          2.281275       16.519905\n",
              "min          0.000000       16.000000\n",
              "25%          2.000000       26.000000\n",
              "50%          3.000000       35.000000\n",
              "75%          5.000000       49.000000\n",
              "max         21.000000      100.000000"
            ]
          },
          "metadata": {
            "tags": []
          },
          "execution_count": 18
        }
      ]
    },
    {
      "cell_type": "markdown",
      "metadata": {
        "id": "UKWMD00YfvMb",
        "colab_type": "text"
      },
      "source": [
        "#### **Descriptive analysis of the Household Size in the Financial Dataset.**"
      ]
    },
    {
      "cell_type": "markdown",
      "metadata": {
        "id": "y_3O5XjSz0jD",
        "colab_type": "text"
      },
      "source": [
        "**Mode , Mean and Median**"
      ]
    },
    {
      "cell_type": "code",
      "metadata": {
        "id": "JPdR_StczzZD",
        "colab_type": "code",
        "outputId": "8b175613-d7d2-42dc-a278-08b272c6b6ea",
        "colab": {
          "base_uri": "https://localhost:8080/",
          "height": 51
        }
      },
      "source": [
        "#Mode of the Household size column\n",
        "\n",
        "FinancialDataset.household_size.mode()"
      ],
      "execution_count": 0,
      "outputs": [
        {
          "output_type": "execute_result",
          "data": {
            "text/plain": [
              "0    2.0\n",
              "dtype: float64"
            ]
          },
          "metadata": {
            "tags": []
          },
          "execution_count": 20
        }
      ]
    },
    {
      "cell_type": "code",
      "metadata": {
        "id": "VaiaspgW0VRK",
        "colab_type": "code",
        "outputId": "8e13a167-e917-4a82-dc47-a622111c43bc",
        "colab": {
          "base_uri": "https://localhost:8080/",
          "height": 34
        }
      },
      "source": [
        "#Median of the Household size column\n",
        "\n",
        "FinancialDataset.household_size.median()"
      ],
      "execution_count": 0,
      "outputs": [
        {
          "output_type": "execute_result",
          "data": {
            "text/plain": [
              "3.0"
            ]
          },
          "metadata": {
            "tags": []
          },
          "execution_count": 21
        }
      ]
    },
    {
      "cell_type": "code",
      "metadata": {
        "id": "YHL2MBqe0WCS",
        "colab_type": "code",
        "outputId": "7a2b558f-0cc6-412d-c6b0-2f9a323e78b5",
        "colab": {
          "base_uri": "https://localhost:8080/",
          "height": 34
        }
      },
      "source": [
        "#Mean of the Household size column\n",
        "\n",
        "FinancialDataset.household_size.mean()"
      ],
      "execution_count": 0,
      "outputs": [
        {
          "output_type": "execute_result",
          "data": {
            "text/plain": [
              "3.688560411311054"
            ]
          },
          "metadata": {
            "tags": []
          },
          "execution_count": 22
        }
      ]
    },
    {
      "cell_type": "markdown",
      "metadata": {
        "id": "f7g18sXY0jgy",
        "colab_type": "text"
      },
      "source": [
        "**Range**"
      ]
    },
    {
      "cell_type": "code",
      "metadata": {
        "id": "uR8bHF3D0uFz",
        "colab_type": "code",
        "outputId": "bcfbe50d-9bb2-4b43-ff87-cbebfd8b10e6",
        "colab": {
          "base_uri": "https://localhost:8080/",
          "height": 34
        }
      },
      "source": [
        "#Find the range between the maximum and minimum value\n",
        "\n",
        "maximum_value = FinancialDataset.household_size.max()\n",
        "minimum_value = FinancialDataset.household_size.min()\n",
        "col_range = maximum_value - minimum_value\n",
        "\n",
        "print(col_range)"
      ],
      "execution_count": 0,
      "outputs": [
        {
          "output_type": "stream",
          "text": [
            "21.0\n"
          ],
          "name": "stdout"
        }
      ]
    },
    {
      "cell_type": "markdown",
      "metadata": {
        "id": "gCq79l7L14OX",
        "colab_type": "text"
      },
      "source": [
        "**Inter-Quartile Range**"
      ]
    },
    {
      "cell_type": "code",
      "metadata": {
        "id": "xCaqW0-7181M",
        "colab_type": "code",
        "outputId": "57f0ea68-53e8-4664-bcc6-f26b1ea6d74a",
        "colab": {
          "base_uri": "https://localhost:8080/",
          "height": 85
        }
      },
      "source": [
        "#Find the quartiles of the household_size column\n",
        "\n",
        "FinancialDataset.household_size.quantile([0.25, 0.5, 0.75])\n"
      ],
      "execution_count": 0,
      "outputs": [
        {
          "output_type": "execute_result",
          "data": {
            "text/plain": [
              "0.25    2.0\n",
              "0.50    3.0\n",
              "0.75    5.0\n",
              "Name: household_size, dtype: float64"
            ]
          },
          "metadata": {
            "tags": []
          },
          "execution_count": 29
        }
      ]
    },
    {
      "cell_type": "markdown",
      "metadata": {
        "id": "nDtcvNfY2YxI",
        "colab_type": "text"
      },
      "source": [
        "**Standard Deviation, Variance, Kurtosis and Skewness**"
      ]
    },
    {
      "cell_type": "code",
      "metadata": {
        "id": "bI7GR-mK2hef",
        "colab_type": "code",
        "outputId": "c01d0a7f-28bd-4f8f-f301-a3a207112256",
        "colab": {
          "base_uri": "https://localhost:8080/",
          "height": 34
        }
      },
      "source": [
        "#Find the Standard Deviation\n",
        "\n",
        "FinancialDataset.household_size.std()  "
      ],
      "execution_count": 0,
      "outputs": [
        {
          "output_type": "execute_result",
          "data": {
            "text/plain": [
              "2.2812745975350435"
            ]
          },
          "metadata": {
            "tags": []
          },
          "execution_count": 30
        }
      ]
    },
    {
      "cell_type": "code",
      "metadata": {
        "id": "WfO_c8-X23k8",
        "colab_type": "code",
        "outputId": "97ba2f5e-d6da-4839-995b-e6a2fb8a7019",
        "colab": {
          "base_uri": "https://localhost:8080/",
          "height": 34
        }
      },
      "source": [
        "#Find the Variance\n",
        "\n",
        "FinancialDataset.household_size.var()  "
      ],
      "execution_count": 0,
      "outputs": [
        {
          "output_type": "execute_result",
          "data": {
            "text/plain": [
              "5.204213789358675"
            ]
          },
          "metadata": {
            "tags": []
          },
          "execution_count": 31
        }
      ]
    },
    {
      "cell_type": "code",
      "metadata": {
        "id": "0Huyzplw28bu",
        "colab_type": "code",
        "outputId": "fb739bf0-adb8-44a1-a06f-320cb17a3a9c",
        "colab": {
          "base_uri": "https://localhost:8080/",
          "height": 34
        }
      },
      "source": [
        "#Find the Skewness\n",
        "\n",
        "FinancialDataset.household_size.skew()  "
      ],
      "execution_count": 0,
      "outputs": [
        {
          "output_type": "execute_result",
          "data": {
            "text/plain": [
              "0.9741827150450616"
            ]
          },
          "metadata": {
            "tags": []
          },
          "execution_count": 32
        }
      ]
    },
    {
      "cell_type": "code",
      "metadata": {
        "id": "5nUJ73F43D1A",
        "colab_type": "code",
        "outputId": "783c41cf-0709-4d2a-fdc7-06fa9dc24755",
        "colab": {
          "base_uri": "https://localhost:8080/",
          "height": 34
        }
      },
      "source": [
        "#Find the Kurtosis\n",
        "\n",
        "FinancialDataset.household_size.kurt()  "
      ],
      "execution_count": 0,
      "outputs": [
        {
          "output_type": "execute_result",
          "data": {
            "text/plain": [
              "1.1538357462528523"
            ]
          },
          "metadata": {
            "tags": []
          },
          "execution_count": 33
        }
      ]
    },
    {
      "cell_type": "markdown",
      "metadata": {
        "id": "X7dT3HEogu6-",
        "colab_type": "text"
      },
      "source": [
        "Meaning the kurtosis is leptokurtic, the tail in this distribution is heavy.\n",
        "\n",
        "Let's plot a boxplot, to gain a visual of the distribution."
      ]
    },
    {
      "cell_type": "code",
      "metadata": {
        "id": "qVGMX_N33cWU",
        "colab_type": "code",
        "outputId": "70218763-5db2-4443-c22b-a794d7f2ad22",
        "colab": {
          "base_uri": "https://localhost:8080/",
          "height": 301
        }
      },
      "source": [
        "sns.boxplot(FinancialDataset['household_size'],showmeans = True)"
      ],
      "execution_count": 0,
      "outputs": [
        {
          "output_type": "execute_result",
          "data": {
            "text/plain": [
              "<matplotlib.axes._subplots.AxesSubplot at 0x7fee3a8b6ac8>"
            ]
          },
          "metadata": {
            "tags": []
          },
          "execution_count": 34
        },
        {
          "output_type": "display_data",
          "data": {
            "image/png": "[encoded data removed]",
            "text/plain": [
              "<Figure size 432x288 with 1 Axes>"
            ]
          },
          "metadata": {
            "tags": []
          }
        }
      ]
    },
    {
      "cell_type": "markdown",
      "metadata": {
        "id": "jTLyMi04vyvl",
        "colab_type": "text"
      },
      "source": [
        "There seems to be numerous outliers beyond the threshold. \n",
        "Let's try actually confirm the presence of outliers."
      ]
    },
    {
      "cell_type": "markdown",
      "metadata": {
        "id": "krzCqEnF3y-u",
        "colab_type": "text"
      },
      "source": [
        "**Outliers**"
      ]
    },
    {
      "cell_type": "code",
      "metadata": {
        "id": "WVKwVvEu31J6",
        "colab_type": "code",
        "outputId": "46b4258f-f920-4f60-a2f0-788d69e34f5c",
        "colab": {
          "base_uri": "https://localhost:8080/",
          "height": 68
        }
      },
      "source": [
        "#Check for outliers in the household_size column\n",
        "\n",
        "Q1 = FinancialDataset.household_size.quantile(0.25)\n",
        "Q3 = FinancialDataset.household_size.quantile(0.75)\n",
        "\n",
        "IQR = Q3 - Q1\n",
        "\n",
        "outliers = ((FinancialDataset.household_size < Q1 - 1.5 * IQR) | (FinancialDataset.household_size > Q3 + 1.5 * IQR))\n",
        "outliers.value_counts()"
      ],
      "execution_count": 0,
      "outputs": [
        {
          "output_type": "execute_result",
          "data": {
            "text/plain": [
              "False    22964\n",
              "True       376\n",
              "Name: household_size, dtype: int64"
            ]
          },
          "metadata": {
            "tags": []
          },
          "execution_count": 35
        }
      ]
    },
    {
      "cell_type": "markdown",
      "metadata": {
        "id": "w8Zbmr0B4ThE",
        "colab_type": "text"
      },
      "source": [
        "There are 376 outliers beyond the range threshold.\n",
        "However it would result in an inconclusive outcome if the outliers are actually removed since they can actually be viable entries.\n"
      ]
    },
    {
      "cell_type": "markdown",
      "metadata": {
        "id": "B-rKlYSA45od",
        "colab_type": "text"
      },
      "source": [
        "#### **Descriptive analysis of the Age of Respondent in the Financial Dataset.**"
      ]
    },
    {
      "cell_type": "markdown",
      "metadata": {
        "colab_type": "text",
        "id": "nezmn1ni5Eu6"
      },
      "source": [
        "**Mode , Mean and Median**"
      ]
    },
    {
      "cell_type": "code",
      "metadata": {
        "id": "rGZ5kDM35K5a",
        "colab_type": "code",
        "outputId": "723ae0a6-8d90-495f-d2a0-5e8062b22538",
        "colab": {
          "base_uri": "https://localhost:8080/",
          "height": 51
        }
      },
      "source": [
        "#Mode of the Age of Respondent column\n",
        "\n",
        "FinancialDataset.respondent_age.mode()"
      ],
      "execution_count": 0,
      "outputs": [
        {
          "output_type": "execute_result",
          "data": {
            "text/plain": [
              "0    30.0\n",
              "dtype: float64"
            ]
          },
          "metadata": {
            "tags": []
          },
          "execution_count": 36
        }
      ]
    },
    {
      "cell_type": "code",
      "metadata": {
        "id": "WFKFzGkh5UdA",
        "colab_type": "code",
        "outputId": "c0991673-82ab-4b13-f735-df5ab8fb9e53",
        "colab": {
          "base_uri": "https://localhost:8080/",
          "height": 34
        }
      },
      "source": [
        "#Median of the Age of Respondent column\n",
        "\n",
        "FinancialDataset.respondent_age.median()"
      ],
      "execution_count": 0,
      "outputs": [
        {
          "output_type": "execute_result",
          "data": {
            "text/plain": [
              "35.0"
            ]
          },
          "metadata": {
            "tags": []
          },
          "execution_count": 37
        }
      ]
    },
    {
      "cell_type": "code",
      "metadata": {
        "id": "oee3Z2gI5YhO",
        "colab_type": "code",
        "outputId": "48e5d240-c15a-4b09-e417-a27d66d8e7e1",
        "colab": {
          "base_uri": "https://localhost:8080/",
          "height": 34
        }
      },
      "source": [
        "#Mean of the Age of Respondent column\n",
        "\n",
        "FinancialDataset.respondent_age.mean()"
      ],
      "execution_count": 0,
      "outputs": [
        {
          "output_type": "execute_result",
          "data": {
            "text/plain": [
              "38.80706940874036"
            ]
          },
          "metadata": {
            "tags": []
          },
          "execution_count": 38
        }
      ]
    },
    {
      "cell_type": "markdown",
      "metadata": {
        "colab_type": "text",
        "id": "m1TYwA9e5fii"
      },
      "source": [
        "**Range**"
      ]
    },
    {
      "cell_type": "code",
      "metadata": {
        "id": "ssviIGwT5gHS",
        "colab_type": "code",
        "outputId": "970e6efb-261d-44d1-e6a1-818c3cf712e9",
        "colab": {
          "base_uri": "https://localhost:8080/",
          "height": 34
        }
      },
      "source": [
        "#Find the range between the maximum and minimum value\n",
        "\n",
        "maximum_value = FinancialDataset.respondent_age.max()\n",
        "minimum_value = FinancialDataset.respondent_age.min()\n",
        "col_range = maximum_value - minimum_value\n",
        "\n",
        "print(col_range)"
      ],
      "execution_count": 0,
      "outputs": [
        {
          "output_type": "stream",
          "text": [
            "84.0\n"
          ],
          "name": "stdout"
        }
      ]
    },
    {
      "cell_type": "markdown",
      "metadata": {
        "colab_type": "text",
        "id": "gYVJxWbn5vxQ"
      },
      "source": [
        "**Inter-Quartile Range**"
      ]
    },
    {
      "cell_type": "code",
      "metadata": {
        "id": "gTXi_dyP5wZw",
        "colab_type": "code",
        "outputId": "424fd3be-93dd-490d-8721-6f32ae690844",
        "colab": {
          "base_uri": "https://localhost:8080/",
          "height": 85
        }
      },
      "source": [
        "#Find the quartiles of the respondent age column\n",
        "\n",
        "FinancialDataset.respondent_age.quantile([0.25, 0.5, 0.75])"
      ],
      "execution_count": 0,
      "outputs": [
        {
          "output_type": "execute_result",
          "data": {
            "text/plain": [
              "0.25    26.0\n",
              "0.50    35.0\n",
              "0.75    49.0\n",
              "Name: respondent_age, dtype: float64"
            ]
          },
          "metadata": {
            "tags": []
          },
          "execution_count": 40
        }
      ]
    },
    {
      "cell_type": "markdown",
      "metadata": {
        "colab_type": "text",
        "id": "ZYH15g2-5-9t"
      },
      "source": [
        "**Standard Deviation, Variance, Kurtosis and Skewness**"
      ]
    },
    {
      "cell_type": "code",
      "metadata": {
        "id": "LnNKUM9s5_bP",
        "colab_type": "code",
        "outputId": "983972ad-14ea-4cc5-8093-92b112115188",
        "colab": {
          "base_uri": "https://localhost:8080/",
          "height": 34
        }
      },
      "source": [
        "#Find the Standard Deviation\n",
        "\n",
        "FinancialDataset.respondent_age.std()  "
      ],
      "execution_count": 0,
      "outputs": [
        {
          "output_type": "execute_result",
          "data": {
            "text/plain": [
              "16.519904564514412"
            ]
          },
          "metadata": {
            "tags": []
          },
          "execution_count": 41
        }
      ]
    },
    {
      "cell_type": "code",
      "metadata": {
        "id": "gVhwWh3P6EaF",
        "colab_type": "code",
        "outputId": "dd3ed035-26f2-463f-f927-80071c98e470",
        "colab": {
          "base_uri": "https://localhost:8080/",
          "height": 34
        }
      },
      "source": [
        "#Find the Variance\n",
        "\n",
        "FinancialDataset.respondent_age.var()  "
      ],
      "execution_count": 0,
      "outputs": [
        {
          "output_type": "execute_result",
          "data": {
            "text/plain": [
              "272.90724682066417"
            ]
          },
          "metadata": {
            "tags": []
          },
          "execution_count": 42
        }
      ]
    },
    {
      "cell_type": "code",
      "metadata": {
        "id": "7eRYqjaC6TzD",
        "colab_type": "code",
        "outputId": "794bbb93-05f0-45d7-ec3d-55b60668cd6d",
        "colab": {
          "base_uri": "https://localhost:8080/",
          "height": 34
        }
      },
      "source": [
        "#Find the Skewness\n",
        "\n",
        "FinancialDataset.respondent_age.skew()  "
      ],
      "execution_count": 0,
      "outputs": [
        {
          "output_type": "execute_result",
          "data": {
            "text/plain": [
              "0.8406145812311228"
            ]
          },
          "metadata": {
            "tags": []
          },
          "execution_count": 43
        }
      ]
    },
    {
      "cell_type": "code",
      "metadata": {
        "id": "22vcgKtU6X1Q",
        "colab_type": "code",
        "outputId": "177511c8-e692-4f15-a916-2acda446c458",
        "colab": {
          "base_uri": "https://localhost:8080/",
          "height": 34
        }
      },
      "source": [
        "#Find the Kurtosis\n",
        "\n",
        "FinancialDataset.respondent_age.kurt()  "
      ],
      "execution_count": 0,
      "outputs": [
        {
          "output_type": "execute_result",
          "data": {
            "text/plain": [
              "0.09826807013177241"
            ]
          },
          "metadata": {
            "tags": []
          },
          "execution_count": 44
        }
      ]
    },
    {
      "cell_type": "markdown",
      "metadata": {
        "colab_type": "text",
        "id": "DRnAwuFi49rK"
      },
      "source": [
        "Meaning the kurtosis is leptokurtic, the tail in this distribution is heavy.\n",
        "\n",
        "Let's plot a boxplot, to gain a visual of the distribution."
      ]
    },
    {
      "cell_type": "code",
      "metadata": {
        "id": "v8oQwtx86sUb",
        "colab_type": "code",
        "outputId": "099723a2-1d1f-4a90-9a68-23c59834c202",
        "colab": {
          "base_uri": "https://localhost:8080/",
          "height": 301
        }
      },
      "source": [
        "sns.boxplot(FinancialDataset['respondent_age'],showmeans = True)"
      ],
      "execution_count": 0,
      "outputs": [
        {
          "output_type": "execute_result",
          "data": {
            "text/plain": [
              "<matplotlib.axes._subplots.AxesSubplot at 0x7fee3a841588>"
            ]
          },
          "metadata": {
            "tags": []
          },
          "execution_count": 45
        },
        {
          "output_type": "display_data",
          "data": {
            "image/png": "[encoded data removed]",
            "text/plain": [
              "<Figure size 432x288 with 1 Axes>"
            ]
          },
          "metadata": {
            "tags": []
          }
        }
      ]
    },
    {
      "cell_type": "markdown",
      "metadata": {
        "colab_type": "text",
        "id": "ijNsk5dZ6xYd"
      },
      "source": [
        "There seems to be numerous outliers beyond the threshold. \n",
        "Let's try actually confirm the presence of outliers."
      ]
    },
    {
      "cell_type": "markdown",
      "metadata": {
        "id": "yVBjP0LE65Km",
        "colab_type": "text"
      },
      "source": [
        "**Outliers**"
      ]
    },
    {
      "cell_type": "code",
      "metadata": {
        "id": "QzDnj41S64Lu",
        "colab_type": "code",
        "outputId": "1f03757e-b6d7-4927-fb5d-907242189095",
        "colab": {
          "base_uri": "https://localhost:8080/",
          "height": 68
        }
      },
      "source": [
        "#Check for outliers in the respondent_age column\n",
        "\n",
        "Q1 = FinancialDataset.respondent_age.quantile(0.25)\n",
        "Q3 = FinancialDataset.respondent_age.quantile(0.75)\n",
        "\n",
        "IQR = Q3 - Q1\n",
        "\n",
        "outliers = ((FinancialDataset.respondent_age < Q1 - 1.5 * IQR) | (FinancialDataset.respondent_age > Q3 + 1.5 * IQR))\n",
        "outliers.value_counts()"
      ],
      "execution_count": 0,
      "outputs": [
        {
          "output_type": "execute_result",
          "data": {
            "text/plain": [
              "False    23101\n",
              "True       239\n",
              "Name: respondent_age, dtype: int64"
            ]
          },
          "metadata": {
            "tags": []
          },
          "execution_count": 46
        }
      ]
    },
    {
      "cell_type": "markdown",
      "metadata": {
        "colab_type": "text",
        "id": "bbNnKGW77TIX"
      },
      "source": [
        "There are 239 outliers beyond the range threshold.\n",
        "However it would result in an inconclusive outcome if the outliers are actually removed since they can actually be viable entries.\n"
      ]
    },
    {
      "cell_type": "markdown",
      "metadata": {
        "id": "YTF09QaU7ZZQ",
        "colab_type": "text"
      },
      "source": [
        "### Bi-variate Analysis"
      ]
    },
    {
      "cell_type": "markdown",
      "metadata": {
        "id": "2XMktmBO7dKb",
        "colab_type": "text"
      },
      "source": [
        "#### Numerical & Numerical Analysis"
      ]
    },
    {
      "cell_type": "markdown",
      "metadata": {
        "id": "KKgo2sUM7sro",
        "colab_type": "text"
      },
      "source": [
        "**A scatter plot comparing the household size and the age of respondent.**"
      ]
    },
    {
      "cell_type": "code",
      "metadata": {
        "id": "adVtocju7jc6",
        "colab_type": "code",
        "outputId": "b28ecbe2-ed25-45e4-fde7-9524fb6dfd18",
        "colab": {
          "base_uri": "https://localhost:8080/",
          "height": 301
        }
      },
      "source": [
        "FinancialDataset.plot(x = 'household_size', y = 'respondent_age', kind = 'scatter')"
      ],
      "execution_count": 0,
      "outputs": [
        {
          "output_type": "execute_result",
          "data": {
            "text/plain": [
              "<matplotlib.axes._subplots.AxesSubplot at 0x7fee37fbd198>"
            ]
          },
          "metadata": {
            "tags": []
          },
          "execution_count": 47
        },
        {
          "output_type": "display_data",
          "data": {
            "image/png": "[encoded data removed]",
            "text/plain": [
              "<Figure size 432x288 with 1 Axes>"
            ]
          },
          "metadata": {
            "tags": []
          }
        }
      ]
    },
    {
      "cell_type": "markdown",
      "metadata": {
        "id": "zvMRkNie73hB",
        "colab_type": "text"
      },
      "source": [
        "**Correlation**"
      ]
    },
    {
      "cell_type": "code",
      "metadata": {
        "id": "2xhpPo8u76OP",
        "colab_type": "code",
        "outputId": "7bcd7a93-c5ef-4da1-91be-63b81c83250a",
        "colab": {
          "base_uri": "https://localhost:8080/",
          "height": 34
        }
      },
      "source": [
        "coeff = FinancialDataset['household_size'].corr(FinancialDataset['respondent_age'])\n",
        "print(coeff)"
      ],
      "execution_count": 0,
      "outputs": [
        {
          "output_type": "stream",
          "text": [
            "-0.1196711523415487\n"
          ],
          "name": "stdout"
        }
      ]
    },
    {
      "cell_type": "markdown",
      "metadata": {
        "id": "HJ3kiiXs6_t7",
        "colab_type": "text"
      },
      "source": [
        "There seems to be a weak correlation coefficient between the two variables; weak correlation."
      ]
    },
    {
      "cell_type": "markdown",
      "metadata": {
        "id": "bqRU0oRE7_1_",
        "colab_type": "text"
      },
      "source": [
        "Let us plot a correaltion heatmap to get a visual."
      ]
    },
    {
      "cell_type": "code",
      "metadata": {
        "id": "GheUE-V78LNx",
        "colab_type": "code",
        "outputId": "1b7365da-fe8e-4c66-c5ce-c9b6908cc342",
        "colab": {
          "base_uri": "https://localhost:8080/",
          "height": 357
        }
      },
      "source": [
        "coeff = FinancialDataset.corr()\n",
        "\n",
        "plt.figure(dpi=90)\n",
        "sns.heatmap(coeff, xticklabels=coeff.columns, yticklabels=coeff.columns, annot = True)\n",
        "plt.title('Heatmap showing Correlation of the numerical columns', y = 1.05, color = 'magenta', fontsize = 15)\n",
        "plt.show()"
      ],
      "execution_count": 0,
      "outputs": [
        {
          "output_type": "display_data",
          "data": {
            "image/png": "[encoded data removed]",
            "text/plain": [
              "<Figure size 540x360 with 2 Axes>"
            ]
          },
          "metadata": {
            "tags": []
          }
        }
      ]
    },
    {
      "cell_type": "markdown",
      "metadata": {
        "id": "ztm2KqZ39PuM",
        "colab_type": "text"
      },
      "source": [
        "### Multi-variate Analysis"
      ]
    },
    {
      "cell_type": "markdown",
      "metadata": {
        "id": "TvMs12TR-zJm",
        "colab_type": "text"
      },
      "source": [
        "### Method 1 : Feature Reduction and modelling using PCA (Principal Component Analysis)"
      ]
    },
    {
      "cell_type": "markdown",
      "metadata": {
        "id": "qucghc429e3k",
        "colab_type": "text"
      },
      "source": [
        "Divide the features into the feature set and corresponding labels: X and y respectively."
      ]
    },
    {
      "cell_type": "code",
      "metadata": {
        "id": "ygvYINjN9Tby",
        "colab_type": "code",
        "colab": {}
      },
      "source": [
        "X = FinancialDataset.drop('has_a_bank_account', axis = 1)\n",
        "y = FinancialDataset.iloc[:, 2]"
      ],
      "execution_count": 0,
      "outputs": []
    },
    {
      "cell_type": "markdown",
      "metadata": {
        "id": "3gcIPIBl9sqU",
        "colab_type": "text"
      },
      "source": [
        "Create Dummy Variables to perform Principal Component Analysis easily and accurately with all the associated variable.\n",
        "\n",
        "Basically encoding the columns with categorical columns."
      ]
    },
    {
      "cell_type": "code",
      "metadata": {
        "id": "zdXor9Yk9uLx",
        "colab_type": "code",
        "colab": {}
      },
      "source": [
        "X = pd.get_dummies(X)"
      ],
      "execution_count": 0,
      "outputs": []
    },
    {
      "cell_type": "markdown",
      "metadata": {
        "id": "6b_mN2J4-SYa",
        "colab_type": "text"
      },
      "source": [
        "Split the data into training sets and test sets."
      ]
    },
    {
      "cell_type": "code",
      "metadata": {
        "id": "lDNjZjEV-Fwd",
        "colab_type": "code",
        "colab": {}
      },
      "source": [
        "from sklearn.model_selection import train_test_split\n",
        "X_train, X_test, y_train, y_test = train_test_split(X, y, test_size = 0.25)"
      ],
      "execution_count": 0,
      "outputs": []
    },
    {
      "cell_type": "markdown",
      "metadata": {
        "id": "e40K12JL_SsT",
        "colab_type": "text"
      },
      "source": [
        "Standardize the Data"
      ]
    },
    {
      "cell_type": "code",
      "metadata": {
        "id": "sZR0L9Uj_V2n",
        "colab_type": "code",
        "colab": {}
      },
      "source": [
        "from sklearn.preprocessing import StandardScaler\n",
        "sc = StandardScaler()\n",
        "X_train = sc.fit_transform(X_train)\n",
        "X_test = sc.transform(X_test)"
      ],
      "execution_count": 0,
      "outputs": []
    },
    {
      "cell_type": "markdown",
      "metadata": {
        "id": "r6m8xXNBAncI",
        "colab_type": "text"
      },
      "source": [
        "Train the model and make predictions."
      ]
    },
    {
      "cell_type": "code",
      "metadata": {
        "id": "7DVJY1rvAtYK",
        "colab_type": "code",
        "outputId": "a9c53a9f-8376-47ec-c787-ee8ed5a7cbf1",
        "colab": {
          "base_uri": "https://localhost:8080/",
          "height": 71
        }
      },
      "source": [
        "from sklearn.ensemble import RandomForestClassifier\n",
        "\n",
        "classifier = RandomForestClassifier(max_depth=2, random_state=0)\n",
        "classifier.fit(X_train, y_train)\n",
        "\n",
        "y_pred = classifier.predict(X_test)"
      ],
      "execution_count": 0,
      "outputs": [
        {
          "output_type": "stream",
          "text": [
            "/usr/local/lib/python3.6/dist-packages/sklearn/ensemble/forest.py:245: FutureWarning: The default value of n_estimators will change from 10 in version 0.20 to 100 in 0.22.\n",
            "  \"10 in version 0.20 to 100 in 0.22.\", FutureWarning)\n"
          ],
          "name": "stderr"
        }
      ]
    },
    {
      "cell_type": "code",
      "metadata": {
        "id": "aJ5VWXY6A4pb",
        "colab_type": "code",
        "outputId": "5e473644-d7c1-481a-9f17-185753ff3bf2",
        "colab": {
          "base_uri": "https://localhost:8080/",
          "height": 68
        }
      },
      "source": [
        "from sklearn.metrics import confusion_matrix\n",
        "from sklearn.metrics import accuracy_score\n",
        "\n",
        "print(confusion_matrix(y_test, y_pred))\n",
        "print(accuracy_score(y_test, y_pred))"
      ],
      "execution_count": 0,
      "outputs": [
        {
          "output_type": "stream",
          "text": [
            "[[4959   22]\n",
            " [ 777   77]]\n",
            "0.8630676949443016\n"
          ],
          "name": "stdout"
        }
      ]
    },
    {
      "cell_type": "markdown",
      "metadata": {
        "id": "cN7Nh0___-Iz",
        "colab_type": "text"
      },
      "source": [
        "Find the variance caused by each of the principal components."
      ]
    },
    {
      "cell_type": "code",
      "metadata": {
        "id": "FPwd3qNeH43L",
        "colab_type": "code",
        "outputId": "4734dcf6-ec17-4827-c1ba-9cb94ca8c57d",
        "colab": {
          "base_uri": "https://localhost:8080/",
          "height": 204
        }
      },
      "source": [
        "print(pca.explained_variance_ratio_)"
      ],
      "execution_count": 0,
      "outputs": [
        {
          "output_type": "stream",
          "text": [
            "[1.20411498e-01 7.70042636e-02 6.92304250e-02 6.42272507e-02\n",
            " 4.99929888e-02 4.44438889e-02 3.83189341e-02 3.43918291e-02\n",
            " 3.33936840e-02 3.05477316e-02 2.83304890e-02 2.65995979e-02\n",
            " 2.50757357e-02 2.41568698e-02 2.38319435e-02 2.36187328e-02\n",
            " 2.35675471e-02 2.31770699e-02 2.30575812e-02 2.29319958e-02\n",
            " 2.26169116e-02 2.21831991e-02 2.12010716e-02 2.03582151e-02\n",
            " 1.93189296e-02 1.84457196e-02 1.47572614e-02 1.38916640e-02\n",
            " 1.13288169e-02 1.07966865e-02 1.03251835e-02 8.46628455e-03\n",
            " 2.37469808e-32 1.00837061e-32 6.40938969e-33 4.96802743e-33\n",
            " 3.15737315e-33 3.12494510e-33 1.90835910e-33 1.18303551e-33\n",
            " 1.02711029e-33 1.98299262e-34]\n"
          ],
          "name": "stdout"
        }
      ]
    },
    {
      "cell_type": "markdown",
      "metadata": {
        "id": "3Wtx9NEYBAhU",
        "colab_type": "text"
      },
      "source": [
        "The Random Forest Classifier model has an accuracy of 86.3% without specifying the number of components in the PCA analysis"
      ]
    },
    {
      "cell_type": "markdown",
      "metadata": {
        "id": "j6MSBPFx_ZI4",
        "colab_type": "text"
      },
      "source": [
        "**Apply the PCA concept.**"
      ]
    },
    {
      "cell_type": "code",
      "metadata": {
        "id": "IbrXlz-1G-RX",
        "colab_type": "code",
        "outputId": "fbc4e5ef-0223-46ec-ae37-107cdaf1d319",
        "colab": {
          "base_uri": "https://localhost:8080/",
          "height": 34
        }
      },
      "source": [
        "len(X.columns)"
      ],
      "execution_count": 0,
      "outputs": [
        {
          "output_type": "execute_result",
          "data": {
            "text/plain": [
              "43"
            ]
          },
          "metadata": {
            "tags": []
          },
          "execution_count": 72
        }
      ]
    },
    {
      "cell_type": "code",
      "metadata": {
        "id": "6CJWhQmGBb1D",
        "colab_type": "code",
        "outputId": "5760fa23-10e9-480b-b58f-f63b450124bd",
        "colab": {
          "base_uri": "https://localhost:8080/",
          "height": 731
        }
      },
      "source": [
        "warnings.filterwarnings(\"ignore\")\n",
        "accuracy = {}\n",
        "\n",
        "for i in range(1, 43):\n",
        "  \n",
        "  from sklearn.model_selection import train_test_split\n",
        "  X_train, X_test, y_train, y_test = train_test_split(X, y, test_size=0.25, random_state=0)\n",
        "  \n",
        "  from sklearn.preprocessing import StandardScaler\n",
        "  sc = StandardScaler()\n",
        "  X_train = sc.fit_transform(X_train)\n",
        "  X_test = sc.transform(X_test)\n",
        "\n",
        "  from sklearn.decomposition import PCA\n",
        "  pca = PCA(n_components = i)\n",
        "  X_train = pca.fit_transform(X_train)\n",
        "  X_test = pca.transform(X_test)\n",
        "\n",
        "  from sklearn.ensemble import RandomForestClassifier\n",
        "  classifier = RandomForestClassifier(max_depth=2, random_state=0)\n",
        "  classifier.fit(X_train, y_train)\n",
        "\n",
        "  y_pred = classifier.predict(X_test)\n",
        "\n",
        "  from sklearn.metrics import confusion_matrix\n",
        "  from sklearn.metrics import accuracy_score\n",
        "  cm = confusion_matrix(y_test, y_pred)\n",
        "  acc = accuracy_score(y_test, y_pred)\n",
        "  \n",
        "  accuracy.update({'comp-n ' + str(i) : 'accuracy' + str(acc*100)})\n",
        "  \n",
        "accuracy\n"
      ],
      "execution_count": 0,
      "outputs": [
        {
          "output_type": "execute_result",
          "data": {
            "text/plain": [
              "{'comp-n 1': 'accuracy86.18680377035133',\n",
              " 'comp-n 10': 'accuracy86.30676949443016',\n",
              " 'comp-n 11': 'accuracy86.8037703513282',\n",
              " 'comp-n 12': 'accuracy86.47814910025707',\n",
              " 'comp-n 13': 'accuracy87.06083976006855',\n",
              " 'comp-n 14': 'accuracy86.6152527849186',\n",
              " 'comp-n 15': 'accuracy86.66666666666667',\n",
              " 'comp-n 16': 'accuracy86.99228791773778',\n",
              " 'comp-n 17': 'accuracy86.76949443016281',\n",
              " 'comp-n 18': 'accuracy86.52956298200513',\n",
              " 'comp-n 19': 'accuracy86.54670094258783',\n",
              " 'comp-n 2': 'accuracy86.59811482433591',\n",
              " 'comp-n 20': 'accuracy86.88946015424165',\n",
              " 'comp-n 21': 'accuracy87.1636675235647',\n",
              " 'comp-n 22': 'accuracy86.75235646958012',\n",
              " 'comp-n 23': 'accuracy87.09511568123393',\n",
              " 'comp-n 24': 'accuracy86.51242502142244',\n",
              " 'comp-n 25': 'accuracy86.52956298200513',\n",
              " 'comp-n 26': 'accuracy86.76949443016281',\n",
              " 'comp-n 27': 'accuracy86.88946015424165',\n",
              " 'comp-n 28': 'accuracy86.75235646958012',\n",
              " 'comp-n 29': 'accuracy86.7866323907455',\n",
              " 'comp-n 3': 'accuracy86.32390745501284',\n",
              " 'comp-n 30': 'accuracy86.73521850899742',\n",
              " 'comp-n 31': 'accuracy86.54670094258783',\n",
              " 'comp-n 32': 'accuracy86.49528706083977',\n",
              " 'comp-n 33': 'accuracy86.64952870608398',\n",
              " 'comp-n 34': 'accuracy86.82090831191088',\n",
              " 'comp-n 35': 'accuracy86.49528706083977',\n",
              " 'comp-n 36': 'accuracy86.7866323907455',\n",
              " 'comp-n 37': 'accuracy86.8037703513282',\n",
              " 'comp-n 38': 'accuracy86.47814910025707',\n",
              " 'comp-n 39': 'accuracy86.95801199657241',\n",
              " 'comp-n 4': 'accuracy86.54670094258783',\n",
              " 'comp-n 40': 'accuracy86.28963153384748',\n",
              " 'comp-n 41': 'accuracy86.51242502142244',\n",
              " 'comp-n 42': 'accuracy86.70094258783206',\n",
              " 'comp-n 5': 'accuracy86.426735218509',\n",
              " 'comp-n 6': 'accuracy86.9751499571551',\n",
              " 'comp-n 7': 'accuracy86.18680377035133',\n",
              " 'comp-n 8': 'accuracy86.18680377035133',\n",
              " 'comp-n 9': 'accuracy86.40959725792631'}"
            ]
          },
          "metadata": {
            "tags": []
          },
          "execution_count": 73
        }
      ]
    },
    {
      "cell_type": "code",
      "metadata": {
        "id": "5H2eTI1IGg-T",
        "colab_type": "code",
        "outputId": "79528ec6-3c07-40de-802e-237c699152ed",
        "colab": {
          "base_uri": "https://localhost:8080/",
          "height": 34
        }
      },
      "source": [
        "maximum = max(accuracy, key=accuracy.get)\n",
        "print(maximum, accuracy[maximum])"
      ],
      "execution_count": 0,
      "outputs": [
        {
          "output_type": "stream",
          "text": [
            "comp-n 21 accuracy87.1636675235647\n"
          ],
          "name": "stdout"
        }
      ]
    },
    {
      "cell_type": "markdown",
      "metadata": {
        "id": "yI9eyoyEGU5n",
        "colab_type": "text"
      },
      "source": [
        "n- component 21 has the highest accuracy of 87.23%"
      ]
    },
    {
      "cell_type": "code",
      "metadata": {
        "id": "gUJzy4CJHSXe",
        "colab_type": "code",
        "outputId": "5db29321-2399-4bd5-dccb-1fe8627ec485",
        "colab": {
          "base_uri": "https://localhost:8080/",
          "height": 34
        }
      },
      "source": [
        "X.columns[21]"
      ],
      "execution_count": 0,
      "outputs": [
        {
          "output_type": "execute_result",
          "data": {
            "text/plain": [
              "'marital_status_Divorced/Seperated'"
            ]
          },
          "metadata": {
            "tags": []
          },
          "execution_count": 75
        }
      ]
    },
    {
      "cell_type": "markdown",
      "metadata": {
        "id": "fJSvCkpseb8X",
        "colab_type": "text"
      },
      "source": [
        "From the analysis above,\n",
        "the overall objective is to create a model which can highly predict whether an individual has a bank account or not, that is why we compare the accuracies to see which model is more reliable.\n"
      ]
    },
    {
      "cell_type": "markdown",
      "metadata": {
        "id": "vihqxCZIIGuZ",
        "colab_type": "text"
      },
      "source": [
        "### Statistical Techniques"
      ]
    },
    {
      "cell_type": "markdown",
      "metadata": {
        "id": "bGZk9KEfKKGr",
        "colab_type": "text"
      },
      "source": [
        "Let's test a hypothesis based on the data.\n",
        "\n",
        "The claim is that the average household size is less than 4 people. The sample is made up of 100 households. The standard deviation is 2.28127.\n",
        "Is there evidence to support the claim at a significance level of 0.05.\n",
        "Find the P-Value and test the hypothesis.\n",
        "\n"
      ]
    },
    {
      "cell_type": "markdown",
      "metadata": {
        "id": "sRC8K4Hod1p2",
        "colab_type": "text"
      },
      "source": [
        "Null Hypothesis : The average household is greater than 4 people.\n",
        "\n",
        "Alternative Hypothesis : The average household is less than 4 people."
      ]
    },
    {
      "cell_type": "code",
      "metadata": {
        "id": "7WrZFKvuI1QY",
        "colab_type": "code",
        "outputId": "d1ee1a03-d3d5-48c4-8ed5-f7b9c02f4337",
        "colab": {
          "base_uri": "https://localhost:8080/",
          "height": 292
        }
      },
      "source": [
        "#Use random sampling to get a sample of 100 household sizes\n",
        "\n",
        "FinancialDataset_sample = FinancialDataset.sample(n=100, replace = \"False\")\n",
        "FinancialDataset_sample.head()"
      ],
      "execution_count": 0,
      "outputs": [
        {
          "output_type": "execute_result",
          "data": {
            "text/html": [
              "<div>\n",
              "<style scoped>\n",
              "    .dataframe tbody tr th:only-of-type {\n",
              "        vertical-align: middle;\n",
              "    }\n",
              "\n",
              "    .dataframe tbody tr th {\n",
              "        vertical-align: top;\n",
              "    }\n",
              "\n",
              "    .dataframe thead th {\n",
              "        text-align: right;\n",
              "    }\n",
              "</style>\n",
              "<table border=\"1\" class=\"dataframe\">\n",
              "  <thead>\n",
              "    <tr style=\"text-align: right;\">\n",
              "      <th></th>\n",
              "      <th>country</th>\n",
              "      <th>year</th>\n",
              "      <th>has_a_bank_account</th>\n",
              "      <th>type_of_location</th>\n",
              "      <th>cell_phone_access</th>\n",
              "      <th>household_size</th>\n",
              "      <th>respondent_age</th>\n",
              "      <th>gender_of_respondent</th>\n",
              "      <th>the_relathip_with_head</th>\n",
              "      <th>marital_status</th>\n",
              "      <th>level_of_educuation</th>\n",
              "      <th>type_of_job</th>\n",
              "    </tr>\n",
              "  </thead>\n",
              "  <tbody>\n",
              "    <tr>\n",
              "      <th>4390</th>\n",
              "      <td>Kenya</td>\n",
              "      <td>2018</td>\n",
              "      <td>No</td>\n",
              "      <td>Urban</td>\n",
              "      <td>Yes</td>\n",
              "      <td>5.0</td>\n",
              "      <td>22.0</td>\n",
              "      <td>Male</td>\n",
              "      <td>Child</td>\n",
              "      <td>Single/Never Married</td>\n",
              "      <td>Primary education</td>\n",
              "      <td>Informally employed</td>\n",
              "    </tr>\n",
              "    <tr>\n",
              "      <th>20118</th>\n",
              "      <td>Tanzania</td>\n",
              "      <td>2017</td>\n",
              "      <td>No</td>\n",
              "      <td>Urban</td>\n",
              "      <td>Yes</td>\n",
              "      <td>2.0</td>\n",
              "      <td>50.0</td>\n",
              "      <td>Female</td>\n",
              "      <td>Spouse</td>\n",
              "      <td>Single/Never Married</td>\n",
              "      <td>Primary education</td>\n",
              "      <td>Self employed</td>\n",
              "    </tr>\n",
              "    <tr>\n",
              "      <th>14964</th>\n",
              "      <td>Tanzania</td>\n",
              "      <td>2017</td>\n",
              "      <td>No</td>\n",
              "      <td>Rural</td>\n",
              "      <td>Yes</td>\n",
              "      <td>2.0</td>\n",
              "      <td>28.0</td>\n",
              "      <td>Female</td>\n",
              "      <td>Spouse</td>\n",
              "      <td>Single/Never Married</td>\n",
              "      <td>Primary education</td>\n",
              "      <td>Self employed</td>\n",
              "    </tr>\n",
              "    <tr>\n",
              "      <th>16985</th>\n",
              "      <td>Tanzania</td>\n",
              "      <td>2017</td>\n",
              "      <td>No</td>\n",
              "      <td>Rural</td>\n",
              "      <td>Yes</td>\n",
              "      <td>3.0</td>\n",
              "      <td>22.0</td>\n",
              "      <td>Female</td>\n",
              "      <td>Parent</td>\n",
              "      <td>Divorced/Seperated</td>\n",
              "      <td>Tertiary education</td>\n",
              "      <td>No Income</td>\n",
              "    </tr>\n",
              "    <tr>\n",
              "      <th>10700</th>\n",
              "      <td>Rwanda</td>\n",
              "      <td>2016</td>\n",
              "      <td>No</td>\n",
              "      <td>Rural</td>\n",
              "      <td>Yes</td>\n",
              "      <td>4.0</td>\n",
              "      <td>35.0</td>\n",
              "      <td>Female</td>\n",
              "      <td>Spouse</td>\n",
              "      <td>Married/Living together</td>\n",
              "      <td>Primary education</td>\n",
              "      <td>Farming and Fishing</td>\n",
              "    </tr>\n",
              "  </tbody>\n",
              "</table>\n",
              "</div>"
            ],
            "text/plain": [
              "        country  year  ... level_of_educuation          type_of_job\n",
              "4390      Kenya  2018  ...   Primary education  Informally employed\n",
              "20118  Tanzania  2017  ...   Primary education        Self employed\n",
              "14964  Tanzania  2017  ...   Primary education        Self employed\n",
              "16985  Tanzania  2017  ...  Tertiary education            No Income\n",
              "10700    Rwanda  2016  ...   Primary education  Farming and Fishing\n",
              "\n",
              "[5 rows x 12 columns]"
            ]
          },
          "metadata": {
            "tags": []
          },
          "execution_count": 80
        }
      ]
    },
    {
      "cell_type": "markdown",
      "metadata": {
        "id": "902tZBVsNxvA",
        "colab_type": "text"
      },
      "source": [
        "**Visualize the distribution of the sample dataframe.**"
      ]
    },
    {
      "cell_type": "code",
      "metadata": {
        "id": "_5mU-s3nN6JN",
        "colab_type": "code",
        "outputId": "d9a7c8e2-aa19-4a13-e798-0fbdf42f0e9b",
        "colab": {
          "base_uri": "https://localhost:8080/",
          "height": 314
        }
      },
      "source": [
        "sns.distplot(FinancialDataset_sample['household_size'], color=\"maroon\")\n",
        "plt.xlabel(\"Household size\", labelpad=14)\n",
        "plt.ylabel(\"Probability of occurence\", labelpad=14)\n",
        "plt.title(\"Distribution of Households\", y=1.015, fontsize=20);"
      ],
      "execution_count": 0,
      "outputs": [
        {
          "output_type": "display_data",
          "data": {
            "image/png": "[encoded data removed]",
            "text/plain": [
              "<Figure size 432x288 with 1 Axes>"
            ]
          },
          "metadata": {
            "tags": []
          }
        }
      ]
    },
    {
      "cell_type": "code",
      "metadata": {
        "id": "A1o8pW0NL7-U",
        "colab_type": "code",
        "outputId": "79bb610c-bc93-4fee-a5b1-a10c11646087",
        "colab": {
          "base_uri": "https://localhost:8080/",
          "height": 68
        }
      },
      "source": [
        "FinancialDataset_sample.mean()"
      ],
      "execution_count": 0,
      "outputs": [
        {
          "output_type": "execute_result",
          "data": {
            "text/plain": [
              "household_size     3.54\n",
              "respondent_age    41.13\n",
              "dtype: float64"
            ]
          },
          "metadata": {
            "tags": []
          },
          "execution_count": 81
        }
      ]
    },
    {
      "cell_type": "markdown",
      "metadata": {
        "id": "cILd1reJTO66",
        "colab_type": "text"
      },
      "source": [
        "Sample mean = 3.54"
      ]
    },
    {
      "cell_type": "code",
      "metadata": {
        "id": "CCaYWdH8ZV-L",
        "colab_type": "code",
        "outputId": "e69393e8-ba4d-4f5a-b8d2-0d0521f81867",
        "colab": {
          "base_uri": "https://localhost:8080/",
          "height": 1000
        }
      },
      "source": [
        "from sklearn import preprocessing\n",
        "\n",
        "# Create x, where x the 'household_size' column's values as floats\n",
        "x = FinancialDataset_sample[['household_size']].values.astype(float)\n",
        "\n",
        "# Create a minimum and maximum processor object\n",
        "min_max_scaler = preprocessing.MinMaxScaler()\n",
        "\n",
        "# Create an object to transform the data to fit minmax processor\n",
        "x_scaled = min_max_scaler.fit_transform(x)\n",
        "\n",
        "# Run the normalizer on the dataframe\n",
        "FinancialDataset_sample_normalized = pd.DataFrame(x_scaled)\n",
        "\n",
        "# View the dataframe\n",
        "FinancialDataset_sample_normalized"
      ],
      "execution_count": 0,
      "outputs": [
        {
          "output_type": "execute_result",
          "data": {
            "text/html": [
              "<div>\n",
              "<style scoped>\n",
              "    .dataframe tbody tr th:only-of-type {\n",
              "        vertical-align: middle;\n",
              "    }\n",
              "\n",
              "    .dataframe tbody tr th {\n",
              "        vertical-align: top;\n",
              "    }\n",
              "\n",
              "    .dataframe thead th {\n",
              "        text-align: right;\n",
              "    }\n",
              "</style>\n",
              "<table border=\"1\" class=\"dataframe\">\n",
              "  <thead>\n",
              "    <tr style=\"text-align: right;\">\n",
              "      <th></th>\n",
              "      <th>0</th>\n",
              "    </tr>\n",
              "  </thead>\n",
              "  <tbody>\n",
              "    <tr>\n",
              "      <th>0</th>\n",
              "      <td>0.4</td>\n",
              "    </tr>\n",
              "    <tr>\n",
              "      <th>1</th>\n",
              "      <td>0.1</td>\n",
              "    </tr>\n",
              "    <tr>\n",
              "      <th>2</th>\n",
              "      <td>0.1</td>\n",
              "    </tr>\n",
              "    <tr>\n",
              "      <th>3</th>\n",
              "      <td>0.2</td>\n",
              "    </tr>\n",
              "    <tr>\n",
              "      <th>4</th>\n",
              "      <td>0.3</td>\n",
              "    </tr>\n",
              "    <tr>\n",
              "      <th>5</th>\n",
              "      <td>0.0</td>\n",
              "    </tr>\n",
              "    <tr>\n",
              "      <th>6</th>\n",
              "      <td>0.7</td>\n",
              "    </tr>\n",
              "    <tr>\n",
              "      <th>7</th>\n",
              "      <td>0.4</td>\n",
              "    </tr>\n",
              "    <tr>\n",
              "      <th>8</th>\n",
              "      <td>0.0</td>\n",
              "    </tr>\n",
              "    <tr>\n",
              "      <th>9</th>\n",
              "      <td>0.4</td>\n",
              "    </tr>\n",
              "    <tr>\n",
              "      <th>10</th>\n",
              "      <td>0.1</td>\n",
              "    </tr>\n",
              "    <tr>\n",
              "      <th>11</th>\n",
              "      <td>0.0</td>\n",
              "    </tr>\n",
              "    <tr>\n",
              "      <th>12</th>\n",
              "      <td>0.2</td>\n",
              "    </tr>\n",
              "    <tr>\n",
              "      <th>13</th>\n",
              "      <td>0.0</td>\n",
              "    </tr>\n",
              "    <tr>\n",
              "      <th>14</th>\n",
              "      <td>0.4</td>\n",
              "    </tr>\n",
              "    <tr>\n",
              "      <th>15</th>\n",
              "      <td>0.6</td>\n",
              "    </tr>\n",
              "    <tr>\n",
              "      <th>16</th>\n",
              "      <td>0.2</td>\n",
              "    </tr>\n",
              "    <tr>\n",
              "      <th>17</th>\n",
              "      <td>0.1</td>\n",
              "    </tr>\n",
              "    <tr>\n",
              "      <th>18</th>\n",
              "      <td>0.5</td>\n",
              "    </tr>\n",
              "    <tr>\n",
              "      <th>19</th>\n",
              "      <td>0.2</td>\n",
              "    </tr>\n",
              "    <tr>\n",
              "      <th>20</th>\n",
              "      <td>0.0</td>\n",
              "    </tr>\n",
              "    <tr>\n",
              "      <th>21</th>\n",
              "      <td>0.3</td>\n",
              "    </tr>\n",
              "    <tr>\n",
              "      <th>22</th>\n",
              "      <td>0.0</td>\n",
              "    </tr>\n",
              "    <tr>\n",
              "      <th>23</th>\n",
              "      <td>0.1</td>\n",
              "    </tr>\n",
              "    <tr>\n",
              "      <th>24</th>\n",
              "      <td>0.0</td>\n",
              "    </tr>\n",
              "    <tr>\n",
              "      <th>25</th>\n",
              "      <td>0.0</td>\n",
              "    </tr>\n",
              "    <tr>\n",
              "      <th>26</th>\n",
              "      <td>0.1</td>\n",
              "    </tr>\n",
              "    <tr>\n",
              "      <th>27</th>\n",
              "      <td>0.4</td>\n",
              "    </tr>\n",
              "    <tr>\n",
              "      <th>28</th>\n",
              "      <td>0.1</td>\n",
              "    </tr>\n",
              "    <tr>\n",
              "      <th>29</th>\n",
              "      <td>0.1</td>\n",
              "    </tr>\n",
              "    <tr>\n",
              "      <th>...</th>\n",
              "      <td>...</td>\n",
              "    </tr>\n",
              "    <tr>\n",
              "      <th>70</th>\n",
              "      <td>0.2</td>\n",
              "    </tr>\n",
              "    <tr>\n",
              "      <th>71</th>\n",
              "      <td>0.0</td>\n",
              "    </tr>\n",
              "    <tr>\n",
              "      <th>72</th>\n",
              "      <td>0.3</td>\n",
              "    </tr>\n",
              "    <tr>\n",
              "      <th>73</th>\n",
              "      <td>0.2</td>\n",
              "    </tr>\n",
              "    <tr>\n",
              "      <th>74</th>\n",
              "      <td>0.2</td>\n",
              "    </tr>\n",
              "    <tr>\n",
              "      <th>75</th>\n",
              "      <td>0.1</td>\n",
              "    </tr>\n",
              "    <tr>\n",
              "      <th>76</th>\n",
              "      <td>0.5</td>\n",
              "    </tr>\n",
              "    <tr>\n",
              "      <th>77</th>\n",
              "      <td>0.2</td>\n",
              "    </tr>\n",
              "    <tr>\n",
              "      <th>78</th>\n",
              "      <td>0.2</td>\n",
              "    </tr>\n",
              "    <tr>\n",
              "      <th>79</th>\n",
              "      <td>1.0</td>\n",
              "    </tr>\n",
              "    <tr>\n",
              "      <th>80</th>\n",
              "      <td>0.4</td>\n",
              "    </tr>\n",
              "    <tr>\n",
              "      <th>81</th>\n",
              "      <td>0.1</td>\n",
              "    </tr>\n",
              "    <tr>\n",
              "      <th>82</th>\n",
              "      <td>0.5</td>\n",
              "    </tr>\n",
              "    <tr>\n",
              "      <th>83</th>\n",
              "      <td>0.5</td>\n",
              "    </tr>\n",
              "    <tr>\n",
              "      <th>84</th>\n",
              "      <td>0.0</td>\n",
              "    </tr>\n",
              "    <tr>\n",
              "      <th>85</th>\n",
              "      <td>0.0</td>\n",
              "    </tr>\n",
              "    <tr>\n",
              "      <th>86</th>\n",
              "      <td>0.0</td>\n",
              "    </tr>\n",
              "    <tr>\n",
              "      <th>87</th>\n",
              "      <td>0.6</td>\n",
              "    </tr>\n",
              "    <tr>\n",
              "      <th>88</th>\n",
              "      <td>0.0</td>\n",
              "    </tr>\n",
              "    <tr>\n",
              "      <th>89</th>\n",
              "      <td>0.4</td>\n",
              "    </tr>\n",
              "    <tr>\n",
              "      <th>90</th>\n",
              "      <td>0.5</td>\n",
              "    </tr>\n",
              "    <tr>\n",
              "      <th>91</th>\n",
              "      <td>0.1</td>\n",
              "    </tr>\n",
              "    <tr>\n",
              "      <th>92</th>\n",
              "      <td>0.1</td>\n",
              "    </tr>\n",
              "    <tr>\n",
              "      <th>93</th>\n",
              "      <td>0.7</td>\n",
              "    </tr>\n",
              "    <tr>\n",
              "      <th>94</th>\n",
              "      <td>0.2</td>\n",
              "    </tr>\n",
              "    <tr>\n",
              "      <th>95</th>\n",
              "      <td>0.7</td>\n",
              "    </tr>\n",
              "    <tr>\n",
              "      <th>96</th>\n",
              "      <td>0.1</td>\n",
              "    </tr>\n",
              "    <tr>\n",
              "      <th>97</th>\n",
              "      <td>0.1</td>\n",
              "    </tr>\n",
              "    <tr>\n",
              "      <th>98</th>\n",
              "      <td>0.1</td>\n",
              "    </tr>\n",
              "    <tr>\n",
              "      <th>99</th>\n",
              "      <td>0.7</td>\n",
              "    </tr>\n",
              "  </tbody>\n",
              "</table>\n",
              "<p>100 rows × 1 columns</p>\n",
              "</div>"
            ],
            "text/plain": [
              "      0\n",
              "0   0.4\n",
              "1   0.1\n",
              "2   0.1\n",
              "3   0.2\n",
              "4   0.3\n",
              "5   0.0\n",
              "6   0.7\n",
              "7   0.4\n",
              "8   0.0\n",
              "9   0.4\n",
              "10  0.1\n",
              "11  0.0\n",
              "12  0.2\n",
              "13  0.0\n",
              "14  0.4\n",
              "15  0.6\n",
              "16  0.2\n",
              "17  0.1\n",
              "18  0.5\n",
              "19  0.2\n",
              "20  0.0\n",
              "21  0.3\n",
              "22  0.0\n",
              "23  0.1\n",
              "24  0.0\n",
              "25  0.0\n",
              "26  0.1\n",
              "27  0.4\n",
              "28  0.1\n",
              "29  0.1\n",
              "..  ...\n",
              "70  0.2\n",
              "71  0.0\n",
              "72  0.3\n",
              "73  0.2\n",
              "74  0.2\n",
              "75  0.1\n",
              "76  0.5\n",
              "77  0.2\n",
              "78  0.2\n",
              "79  1.0\n",
              "80  0.4\n",
              "81  0.1\n",
              "82  0.5\n",
              "83  0.5\n",
              "84  0.0\n",
              "85  0.0\n",
              "86  0.0\n",
              "87  0.6\n",
              "88  0.0\n",
              "89  0.4\n",
              "90  0.5\n",
              "91  0.1\n",
              "92  0.1\n",
              "93  0.7\n",
              "94  0.2\n",
              "95  0.7\n",
              "96  0.1\n",
              "97  0.1\n",
              "98  0.1\n",
              "99  0.7\n",
              "\n",
              "[100 rows x 1 columns]"
            ]
          },
          "metadata": {
            "tags": []
          },
          "execution_count": 105
        }
      ]
    },
    {
      "cell_type": "code",
      "metadata": {
        "id": "LCkg9NDgaXtC",
        "colab_type": "code",
        "outputId": "acdb5e5d-4fdf-4766-fe8d-d2a1bee7ad15",
        "colab": {
          "base_uri": "https://localhost:8080/",
          "height": 289
        }
      },
      "source": [
        "FinancialDataset_sample_normalized.plot(kind='bar')"
      ],
      "execution_count": 0,
      "outputs": [
        {
          "output_type": "execute_result",
          "data": {
            "text/plain": [
              "<matplotlib.axes._subplots.AxesSubplot at 0x7fee31472898>"
            ]
          },
          "metadata": {
            "tags": []
          },
          "execution_count": 108
        },
        {
          "output_type": "display_data",
          "data": {
            "image/png": "[encoded data removed]",
            "text/plain": [
              "<Figure size 432x288 with 1 Axes>"
            ]
          },
          "metadata": {
            "tags": []
          }
        }
      ]
    },
    {
      "cell_type": "code",
      "metadata": {
        "id": "Bl06I6XSa3fQ",
        "colab_type": "code",
        "outputId": "ad7c7a35-658b-498c-baf6-6665d20bbccf",
        "colab": {
          "base_uri": "https://localhost:8080/",
          "height": 34
        }
      },
      "source": [
        "z_score = (3.54 - 3.68) / (2.28/10)\n",
        "print(z_score)"
      ],
      "execution_count": 0,
      "outputs": [
        {
          "output_type": "stream",
          "text": [
            "-0.6140350877192988\n"
          ],
          "name": "stdout"
        }
      ]
    },
    {
      "cell_type": "markdown",
      "metadata": {
        "id": "qG3HYC3tdbo1",
        "colab_type": "text"
      },
      "source": [
        "P-Value = 0.2709"
      ]
    },
    {
      "cell_type": "markdown",
      "metadata": {
        "id": "zO3xcBlwddBO",
        "colab_type": "text"
      },
      "source": [
        "Therefore, since the P-value > 0.05, accept the null hypothesis.\n",
        "There is enough evidence to support the Claim that the average household has more than 4 people.\n"
      ]
    }
  ]
}