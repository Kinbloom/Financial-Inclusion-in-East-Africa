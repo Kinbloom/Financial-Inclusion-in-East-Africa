{
  "nbformat": 4,
  "nbformat_minor": 0,
  "metadata": {
    "colab": {
      "name": "Financial_Inclusion.ipynb",
      "version": "0.3.2",
      "provenance": [],
      "collapsed_sections": [],
      "include_colab_link": true
    },
    "kernelspec": {
      "name": "python3",
      "display_name": "Python 3"
    },
    "accelerator": "GPU"
  },
  "cells": [
    {
      "cell_type": "markdown",
      "metadata": {
        "id": "view-in-github",
        "colab_type": "text"
      },
      "source": [
        "<a href=\"https://colab.research.google.com/github/Kinbloom/Financial-Inclusion-in-East-Africa/blob/master/Financial_Inclusion.ipynb\" target=\"_parent\"><img src=\"https://colab.research.google.com/assets/colab-badge.svg\" alt=\"Open In Colab\"/></a>"
      ]
    },
    {
      "cell_type": "markdown",
      "metadata": {
        "id": "FbHDncBwV5B8",
        "colab_type": "text"
      },
      "source": [
        "# Financial Inclusion in East Africa\n",
        "\n",
        "#### Based on Kenya,Uganda,Tanzania and Rwanda."
      ]
    },
    {
      "cell_type": "markdown",
      "metadata": {
        "id": "v0XHiB6nhKjE",
        "colab_type": "text"
      },
      "source": [
        "**Research Question**\n",
        "\n",
        "What are the demographic factors to determine whether an individual has or uses a bank account or not? Here we test the variables that are significant either negatively or positively in determining their relationship with the dependent variable (has a bank account or not)\n",
        "\n",
        "**Metric for success**\n",
        "\n",
        "\n",
        "*   Determine the factors that determine Financial inclusion in East Africa.\n",
        "*   Design a model with an 87% accuracy prediction of those with(out) bank accounts.\n",
        "\n",
        "\n",
        "\n"
      ]
    },
    {
      "cell_type": "markdown",
      "metadata": {
        "id": "cHXGrIRrJ2u_",
        "colab_type": "text"
      },
      "source": [
        "### Import the necessary libraries."
      ]
    },
    {
      "cell_type": "code",
      "metadata": {
        "id": "o-l6h93ZWMEU",
        "colab_type": "code",
        "colab": {}
      },
      "source": [
        "#Import the necessary libraries\n",
        "\n",
        "import pandas as pd\n",
        "import numpy as np\n",
        "import seaborn as sns\n",
        "import matplotlib.pyplot as plt"
      ],
      "execution_count": 0,
      "outputs": []
    },
    {
      "cell_type": "markdown",
      "metadata": {
        "id": "jo07dC6NKH_c",
        "colab_type": "text"
      },
      "source": [
        "### Load the datasets to be used for the Exploratory Analysis."
      ]
    },
    {
      "cell_type": "code",
      "metadata": {
        "id": "Nyz8w_wiWmmW",
        "colab_type": "code",
        "outputId": "2d347c59-7351-48d3-fb77-9b34cdc3e54e",
        "colab": {
          "base_uri": "https://localhost:8080/",
          "height": 405
        }
      },
      "source": [
        "#Load the Dataset that describes the dataset.\n",
        "\n",
        "variableDataset = pd.read_csv('http://bit.ly/VariableDefinitions')\n",
        "variableDataset\n"
      ],
      "execution_count": 0,
      "outputs": [
        {
          "output_type": "execute_result",
          "data": {
            "text/html": [
              "<div>\n",
              "<style scoped>\n",
              "    .dataframe tbody tr th:only-of-type {\n",
              "        vertical-align: middle;\n",
              "    }\n",
              "\n",
              "    .dataframe tbody tr th {\n",
              "        vertical-align: top;\n",
              "    }\n",
              "\n",
              "    .dataframe thead th {\n",
              "        text-align: right;\n",
              "    }\n",
              "</style>\n",
              "<table border=\"1\" class=\"dataframe\">\n",
              "  <thead>\n",
              "    <tr style=\"text-align: right;\">\n",
              "      <th></th>\n",
              "      <th>Variable Definitions</th>\n",
              "      <th>Unnamed: 1</th>\n",
              "    </tr>\n",
              "  </thead>\n",
              "  <tbody>\n",
              "    <tr>\n",
              "      <th>0</th>\n",
              "      <td>country</td>\n",
              "      <td>Country interviewee is in.</td>\n",
              "    </tr>\n",
              "    <tr>\n",
              "      <th>1</th>\n",
              "      <td>year</td>\n",
              "      <td>Year survey was done in.</td>\n",
              "    </tr>\n",
              "    <tr>\n",
              "      <th>2</th>\n",
              "      <td>uniqueid</td>\n",
              "      <td>Unique identifier for each interviewee</td>\n",
              "    </tr>\n",
              "    <tr>\n",
              "      <th>3</th>\n",
              "      <td>location_type</td>\n",
              "      <td>Type of location: Rural, Urban</td>\n",
              "    </tr>\n",
              "    <tr>\n",
              "      <th>4</th>\n",
              "      <td>cellphone_access</td>\n",
              "      <td>If interviewee has access to a cellphone: Yes, No</td>\n",
              "    </tr>\n",
              "    <tr>\n",
              "      <th>5</th>\n",
              "      <td>household_size</td>\n",
              "      <td>Number of people living in one house</td>\n",
              "    </tr>\n",
              "    <tr>\n",
              "      <th>6</th>\n",
              "      <td>age_of_respondent</td>\n",
              "      <td>The age of the interviewee</td>\n",
              "    </tr>\n",
              "    <tr>\n",
              "      <th>7</th>\n",
              "      <td>gender_of_respondent</td>\n",
              "      <td>Gender of interviewee: Male, Female</td>\n",
              "    </tr>\n",
              "    <tr>\n",
              "      <th>8</th>\n",
              "      <td>relationship_with_head</td>\n",
              "      <td>The interviewee’s relationship with the head o...</td>\n",
              "    </tr>\n",
              "    <tr>\n",
              "      <th>9</th>\n",
              "      <td>marital_status</td>\n",
              "      <td>The martial status of the interviewee: Married...</td>\n",
              "    </tr>\n",
              "    <tr>\n",
              "      <th>10</th>\n",
              "      <td>education_level</td>\n",
              "      <td>Highest level of education: No formal educatio...</td>\n",
              "    </tr>\n",
              "    <tr>\n",
              "      <th>11</th>\n",
              "      <td>job_type</td>\n",
              "      <td>Type of job interviewee has: Farming and Fishi...</td>\n",
              "    </tr>\n",
              "  </tbody>\n",
              "</table>\n",
              "</div>"
            ],
            "text/plain": [
              "      Variable Definitions                                         Unnamed: 1\n",
              "0                  country                         Country interviewee is in.\n",
              "1                     year                           Year survey was done in.\n",
              "2                 uniqueid             Unique identifier for each interviewee\n",
              "3            location_type                     Type of location: Rural, Urban\n",
              "4         cellphone_access  If interviewee has access to a cellphone: Yes, No\n",
              "5           household_size               Number of people living in one house\n",
              "6        age_of_respondent                         The age of the interviewee\n",
              "7     gender_of_respondent                Gender of interviewee: Male, Female\n",
              "8   relationship_with_head  The interviewee’s relationship with the head o...\n",
              "9           marital_status  The martial status of the interviewee: Married...\n",
              "10         education_level  Highest level of education: No formal educatio...\n",
              "11                job_type  Type of job interviewee has: Farming and Fishi..."
            ]
          },
          "metadata": {
            "tags": []
          },
          "execution_count": 4
        }
      ]
    },
    {
      "cell_type": "code",
      "metadata": {
        "id": "GhgvEXL2YMRB",
        "colab_type": "code",
        "outputId": "5d8433a1-c197-4305-e4c9-8ce8e0d885ea",
        "colab": {
          "base_uri": "https://localhost:8080/",
          "height": 347
        }
      },
      "source": [
        "#Load the Financial Dataset \n",
        "\n",
        "FinancialDataset = pd.read_csv('http://bit.ly/FinancialDataset')\n",
        "FinancialDataset.head()"
      ],
      "execution_count": 0,
      "outputs": [
        {
          "output_type": "execute_result",
          "data": {
            "text/html": [
              "<div>\n",
              "<style scoped>\n",
              "    .dataframe tbody tr th:only-of-type {\n",
              "        vertical-align: middle;\n",
              "    }\n",
              "\n",
              "    .dataframe tbody tr th {\n",
              "        vertical-align: top;\n",
              "    }\n",
              "\n",
              "    .dataframe thead th {\n",
              "        text-align: right;\n",
              "    }\n",
              "</style>\n",
              "<table border=\"1\" class=\"dataframe\">\n",
              "  <thead>\n",
              "    <tr style=\"text-align: right;\">\n",
              "      <th></th>\n",
              "      <th>country</th>\n",
              "      <th>year</th>\n",
              "      <th>uniqueid</th>\n",
              "      <th>Has a Bank account</th>\n",
              "      <th>Type of Location</th>\n",
              "      <th>Cell Phone Access</th>\n",
              "      <th>household_size</th>\n",
              "      <th>Respondent Age</th>\n",
              "      <th>gender_of_respondent</th>\n",
              "      <th>The relathip with head</th>\n",
              "      <th>marital_status</th>\n",
              "      <th>Level of Educuation</th>\n",
              "      <th>Type of Job</th>\n",
              "    </tr>\n",
              "  </thead>\n",
              "  <tbody>\n",
              "    <tr>\n",
              "      <th>0</th>\n",
              "      <td>Kenya</td>\n",
              "      <td>2018</td>\n",
              "      <td>uniqueid_1</td>\n",
              "      <td>Yes</td>\n",
              "      <td>Rural</td>\n",
              "      <td>Yes</td>\n",
              "      <td>3.0</td>\n",
              "      <td>24.0</td>\n",
              "      <td>Female</td>\n",
              "      <td>Spouse</td>\n",
              "      <td>Married/Living together</td>\n",
              "      <td>Secondary education</td>\n",
              "      <td>Self employed</td>\n",
              "    </tr>\n",
              "    <tr>\n",
              "      <th>1</th>\n",
              "      <td>Kenya</td>\n",
              "      <td>2018</td>\n",
              "      <td>uniqueid_2</td>\n",
              "      <td>No</td>\n",
              "      <td>Rural</td>\n",
              "      <td>No</td>\n",
              "      <td>5.0</td>\n",
              "      <td>70.0</td>\n",
              "      <td>Female</td>\n",
              "      <td>Head of Household</td>\n",
              "      <td>Widowed</td>\n",
              "      <td>No formal education</td>\n",
              "      <td>Government Dependent</td>\n",
              "    </tr>\n",
              "    <tr>\n",
              "      <th>2</th>\n",
              "      <td>Kenya</td>\n",
              "      <td>2018</td>\n",
              "      <td>uniqueid_3</td>\n",
              "      <td>Yes</td>\n",
              "      <td>Urban</td>\n",
              "      <td>Yes</td>\n",
              "      <td>5.0</td>\n",
              "      <td>26.0</td>\n",
              "      <td>Male</td>\n",
              "      <td>Other relative</td>\n",
              "      <td>Single/Never Married</td>\n",
              "      <td>Vocational/Specialised training</td>\n",
              "      <td>Self employed</td>\n",
              "    </tr>\n",
              "    <tr>\n",
              "      <th>3</th>\n",
              "      <td>Kenya</td>\n",
              "      <td>2018</td>\n",
              "      <td>uniqueid_4</td>\n",
              "      <td>No</td>\n",
              "      <td>Rural</td>\n",
              "      <td>Yes</td>\n",
              "      <td>5.0</td>\n",
              "      <td>34.0</td>\n",
              "      <td>Female</td>\n",
              "      <td>Head of Household</td>\n",
              "      <td>Married/Living together</td>\n",
              "      <td>Primary education</td>\n",
              "      <td>Formally employed Private</td>\n",
              "    </tr>\n",
              "    <tr>\n",
              "      <th>4</th>\n",
              "      <td>Kenya</td>\n",
              "      <td>2018</td>\n",
              "      <td>uniqueid_5</td>\n",
              "      <td>No</td>\n",
              "      <td>Urban</td>\n",
              "      <td>No</td>\n",
              "      <td>8.0</td>\n",
              "      <td>26.0</td>\n",
              "      <td>Male</td>\n",
              "      <td>Child</td>\n",
              "      <td>Single/Never Married</td>\n",
              "      <td>Primary education</td>\n",
              "      <td>Informally employed</td>\n",
              "    </tr>\n",
              "  </tbody>\n",
              "</table>\n",
              "</div>"
            ],
            "text/plain": [
              "  country  year  ...              Level of Educuation                Type of Job\n",
              "0   Kenya  2018  ...              Secondary education              Self employed\n",
              "1   Kenya  2018  ...              No formal education       Government Dependent\n",
              "2   Kenya  2018  ...  Vocational/Specialised training              Self employed\n",
              "3   Kenya  2018  ...                Primary education  Formally employed Private\n",
              "4   Kenya  2018  ...                Primary education        Informally employed\n",
              "\n",
              "[5 rows x 13 columns]"
            ]
          },
          "metadata": {
            "tags": []
          },
          "execution_count": 5
        }
      ]
    },
    {
      "cell_type": "code",
      "metadata": {
        "id": "vI4q7sAUV7sQ",
        "colab_type": "code",
        "colab": {}
      },
      "source": [
        "FinancialDataset.columns = FinancialDataset.columns.str.lower().str.replace(' ', '_')"
      ],
      "execution_count": 0,
      "outputs": []
    },
    {
      "cell_type": "code",
      "metadata": {
        "id": "FmqV2ijgai_5",
        "colab_type": "code",
        "outputId": "500765f0-855b-461a-9066-979b8abb7730",
        "colab": {
          "base_uri": "https://localhost:8080/",
          "height": 318
        }
      },
      "source": [
        "#Find out the number of entries in each column, column data type\n",
        "\n",
        "FinancialDataset.info()"
      ],
      "execution_count": 0,
      "outputs": [
        {
          "output_type": "stream",
          "text": [
            "<class 'pandas.core.frame.DataFrame'>\n",
            "RangeIndex: 23524 entries, 0 to 23523\n",
            "Data columns (total 13 columns):\n",
            "country                   23510 non-null object\n",
            "year                      23524 non-null int64\n",
            "uniqueid                  23524 non-null object\n",
            "has_a_bank_account        23488 non-null object\n",
            "type_of_location          23509 non-null object\n",
            "cell_phone_access         23513 non-null object\n",
            "household_size            23496 non-null float64\n",
            "respondent_age            23490 non-null float64\n",
            "gender_of_respondent      23490 non-null object\n",
            "the_relathip_with_head    23520 non-null object\n",
            "marital_status            23492 non-null object\n",
            "level_of_educuation       23495 non-null object\n",
            "type_of_job               23494 non-null object\n",
            "dtypes: float64(2), int64(1), object(10)\n",
            "memory usage: 2.3+ MB\n"
          ],
          "name": "stdout"
        }
      ]
    },
    {
      "cell_type": "code",
      "metadata": {
        "id": "FQ6NhOFwZy5v",
        "colab_type": "code",
        "outputId": "25e84069-234b-4136-d2ff-11b996f9afe5",
        "colab": {
          "base_uri": "https://localhost:8080/",
          "height": 251
        }
      },
      "source": [
        "#Find out if there are missing values.\n",
        "\n",
        "FinancialDataset.isnull().sum()"
      ],
      "execution_count": 0,
      "outputs": [
        {
          "output_type": "execute_result",
          "data": {
            "text/plain": [
              "country                   14\n",
              "year                       0\n",
              "uniqueid                   0\n",
              "has_a_bank_account        36\n",
              "type_of_location          15\n",
              "cell_phone_access         11\n",
              "household_size            28\n",
              "respondent_age            34\n",
              "gender_of_respondent      34\n",
              "the_relathip_with_head     4\n",
              "marital_status            32\n",
              "level_of_educuation       29\n",
              "type_of_job               30\n",
              "dtype: int64"
            ]
          },
          "metadata": {
            "tags": []
          },
          "execution_count": 8
        }
      ]
    },
    {
      "cell_type": "code",
      "metadata": {
        "id": "U4W5az54bIVB",
        "colab_type": "code",
        "colab": {}
      },
      "source": [
        "#Drop the rows that contain any form of missing or null value since they may result in inconsistencies.\n",
        "\n",
        "FinancialDataset.dropna(inplace = True)"
      ],
      "execution_count": 0,
      "outputs": []
    },
    {
      "cell_type": "code",
      "metadata": {
        "id": "rTo1ySem5aG-",
        "colab_type": "code",
        "outputId": "3afdad78-cd6a-4740-ac35-fbf80191e6bc",
        "colab": {
          "base_uri": "https://localhost:8080/",
          "height": 251
        }
      },
      "source": [
        "#Check to see if there are any null values. \n",
        "\n",
        "FinancialDataset.isnull().sum()"
      ],
      "execution_count": 0,
      "outputs": [
        {
          "output_type": "execute_result",
          "data": {
            "text/plain": [
              "country                   0\n",
              "year                      0\n",
              "uniqueid                  0\n",
              "has_a_bank_account        0\n",
              "type_of_location          0\n",
              "cell_phone_access         0\n",
              "household_size            0\n",
              "respondent_age            0\n",
              "gender_of_respondent      0\n",
              "the_relathip_with_head    0\n",
              "marital_status            0\n",
              "level_of_educuation       0\n",
              "type_of_job               0\n",
              "dtype: int64"
            ]
          },
          "metadata": {
            "tags": []
          },
          "execution_count": 10
        }
      ]
    },
    {
      "cell_type": "code",
      "metadata": {
        "id": "MFyLwu4Z5hpx",
        "colab_type": "code",
        "outputId": "52c03443-e489-4dd8-b669-103924eb078e",
        "colab": {
          "base_uri": "https://localhost:8080/",
          "height": 920
        }
      },
      "source": [
        "#What unique values are there in each column entry in the dataset?\n",
        "\n",
        "for i in FinancialDataset.columns:\n",
        " print(FinancialDataset[i].unique())\n",
        " print (\"\\n\")"
      ],
      "execution_count": 0,
      "outputs": [
        {
          "output_type": "stream",
          "text": [
            "['Kenya' 'Rwanda' 'Tanzania' 'Uganda']\n",
            "\n",
            "\n",
            "[2018 2029 2056 2016 2039 2017]\n",
            "\n",
            "\n",
            "['uniqueid_1' 'uniqueid_2' 'uniqueid_3' ... 'uniqueid_8757'\n",
            " 'uniqueid_8758' 'uniqueid_8759']\n",
            "\n",
            "\n",
            "['Yes' 'No']\n",
            "\n",
            "\n",
            "['Rural' 'Urban']\n",
            "\n",
            "\n",
            "['Yes' 'No']\n",
            "\n",
            "\n",
            "[ 3.  5.  8.  7.  1.  6.  4. 10.  2. 11.  9. 12. 16. 15. 13. 14. 21.  0.\n",
            " 18. 17. 20.]\n",
            "\n",
            "\n",
            "[ 24.  70.  26.  34.  32.  42.  54.  76.  40.  69.  64.  31.  38.  47.\n",
            "  27.  48.  25.  21.  18.  22.  58.  55.  62.  29.  35.  45.  67.  19.\n",
            "  80.  66.  50.  33.  28.  51.  16.  17.  30.  37.  59.  65.  46.  56.\n",
            "  52.  23.  43.  49.  44.  72.  53.  63.  39.  81.  78.  36.  20.  60.\n",
            "  95.  71.  57.  85.  68.  41.  61.  75.  86.  73.  93.  74.  88.  90.\n",
            "  77.  84.  82.  89.  79.  83.  94.  87.  92.  91.  98.  97.  96.  99.\n",
            " 100.]\n",
            "\n",
            "\n",
            "['Female' 'Male']\n",
            "\n",
            "\n",
            "['Spouse' 'Head of Household' 'Other relative' 'Child' 'Parent'\n",
            " 'Other non-relatives']\n",
            "\n",
            "\n",
            "['Married/Living together' 'Widowed' 'Single/Never Married'\n",
            " 'Divorced/Seperated' 'Dont know']\n",
            "\n",
            "\n",
            "['Secondary education' 'No formal education'\n",
            " 'Vocational/Specialised training' 'Primary education'\n",
            " 'Tertiary education' 'Other/Dont know/RTA' '6']\n",
            "\n",
            "\n",
            "['Self employed' 'Government Dependent' 'Formally employed Private'\n",
            " 'Informally employed' 'Formally employed Government'\n",
            " 'Farming and Fishing' 'Remittance Dependent' 'Other Income'\n",
            " 'Dont Know/Refuse to answer' 'No Income']\n",
            "\n",
            "\n"
          ],
          "name": "stdout"
        }
      ]
    },
    {
      "cell_type": "markdown",
      "metadata": {
        "id": "SMdskkSRMbjp",
        "colab_type": "text"
      },
      "source": [
        "The year column clearly contains an anomaly since there's the entry of years not included in the study. i.e. 2029,2039,2056.\n",
        "\n",
        "We must exclude those entries.\n",
        "\n",
        "\n"
      ]
    },
    {
      "cell_type": "code",
      "metadata": {
        "id": "t-bxoGR95_he",
        "colab_type": "code",
        "colab": {}
      },
      "source": [
        "FinancialDataset = FinancialDataset[~((FinancialDataset.year == 2029) | (FinancialDataset.year == 2039) | (FinancialDataset.year == 2056 ))]"
      ],
      "execution_count": 0,
      "outputs": []
    },
    {
      "cell_type": "code",
      "metadata": {
        "id": "94nd_MfvNQa-",
        "colab_type": "code",
        "outputId": "01f5c730-fa8e-4407-d038-605d64639c77",
        "colab": {
          "base_uri": "https://localhost:8080/",
          "height": 33
        }
      },
      "source": [
        "FinancialDataset.year.unique()"
      ],
      "execution_count": 0,
      "outputs": [
        {
          "output_type": "execute_result",
          "data": {
            "text/plain": [
              "array([2018, 2016, 2017])"
            ]
          },
          "metadata": {
            "tags": []
          },
          "execution_count": 13
        }
      ]
    },
    {
      "cell_type": "markdown",
      "metadata": {
        "id": "LmraJEXjNi9R",
        "colab_type": "text"
      },
      "source": [
        "The anomaly has been corrected."
      ]
    },
    {
      "cell_type": "code",
      "metadata": {
        "id": "kUzAySByVeNW",
        "colab_type": "code",
        "colab": {}
      },
      "source": [
        "FinancialDataset.drop('uniqueid', axis = 1, inplace = True)"
      ],
      "execution_count": 0,
      "outputs": []
    },
    {
      "cell_type": "code",
      "metadata": {
        "id": "wq2z6XUCXHQ_",
        "colab_type": "code",
        "outputId": "7a8c7023-861a-4e58-e966-bf850fa7e4b9",
        "colab": {
          "base_uri": "https://localhost:8080/",
          "height": 234
        }
      },
      "source": [
        "FinancialDataset.dtypes\n",
        "\n",
        "#You need to change the data types to Category and the numerical columns remain as float64.\n",
        "\n",
        "for column in FinancialDataset[FinancialDataset.columns.difference(['household_size', 'respondent_age'])].columns:\n",
        "  FinancialDataset[column] = FinancialDataset[column].astype('category')\n",
        "  \n",
        "#Check the data types\n",
        "\n",
        "FinancialDataset.dtypes"
      ],
      "execution_count": 0,
      "outputs": [
        {
          "output_type": "execute_result",
          "data": {
            "text/plain": [
              "country                   category\n",
              "year                      category\n",
              "has_a_bank_account        category\n",
              "type_of_location          category\n",
              "cell_phone_access         category\n",
              "household_size             float64\n",
              "respondent_age             float64\n",
              "gender_of_respondent      category\n",
              "the_relathip_with_head    category\n",
              "marital_status            category\n",
              "level_of_educuation       category\n",
              "type_of_job               category\n",
              "dtype: object"
            ]
          },
          "metadata": {
            "tags": []
          },
          "execution_count": 15
        }
      ]
    },
    {
      "cell_type": "markdown",
      "metadata": {
        "id": "Sk2Y7opMihlZ",
        "colab_type": "text"
      },
      "source": [
        "### Univariate Analysis"
      ]
    },
    {
      "cell_type": "code",
      "metadata": {
        "id": "VivGhKOGee6n",
        "colab_type": "code",
        "outputId": "ba038c0b-c898-451f-8226-392a650fda2c",
        "colab": {
          "base_uri": "https://localhost:8080/",
          "height": 160
        }
      },
      "source": [
        "#Load the first 2 values in the dataset\n",
        "FinancialDataset.head(2)"
      ],
      "execution_count": 0,
      "outputs": [
        {
          "output_type": "execute_result",
          "data": {
            "text/html": [
              "<div>\n",
              "<style scoped>\n",
              "    .dataframe tbody tr th:only-of-type {\n",
              "        vertical-align: middle;\n",
              "    }\n",
              "\n",
              "    .dataframe tbody tr th {\n",
              "        vertical-align: top;\n",
              "    }\n",
              "\n",
              "    .dataframe thead th {\n",
              "        text-align: right;\n",
              "    }\n",
              "</style>\n",
              "<table border=\"1\" class=\"dataframe\">\n",
              "  <thead>\n",
              "    <tr style=\"text-align: right;\">\n",
              "      <th></th>\n",
              "      <th>country</th>\n",
              "      <th>year</th>\n",
              "      <th>has_a_bank_account</th>\n",
              "      <th>type_of_location</th>\n",
              "      <th>cell_phone_access</th>\n",
              "      <th>household_size</th>\n",
              "      <th>respondent_age</th>\n",
              "      <th>gender_of_respondent</th>\n",
              "      <th>the_relathip_with_head</th>\n",
              "      <th>marital_status</th>\n",
              "      <th>level_of_educuation</th>\n",
              "      <th>type_of_job</th>\n",
              "    </tr>\n",
              "  </thead>\n",
              "  <tbody>\n",
              "    <tr>\n",
              "      <th>0</th>\n",
              "      <td>Kenya</td>\n",
              "      <td>2018</td>\n",
              "      <td>Yes</td>\n",
              "      <td>Rural</td>\n",
              "      <td>Yes</td>\n",
              "      <td>3.0</td>\n",
              "      <td>24.0</td>\n",
              "      <td>Female</td>\n",
              "      <td>Spouse</td>\n",
              "      <td>Married/Living together</td>\n",
              "      <td>Secondary education</td>\n",
              "      <td>Self employed</td>\n",
              "    </tr>\n",
              "    <tr>\n",
              "      <th>1</th>\n",
              "      <td>Kenya</td>\n",
              "      <td>2018</td>\n",
              "      <td>No</td>\n",
              "      <td>Rural</td>\n",
              "      <td>No</td>\n",
              "      <td>5.0</td>\n",
              "      <td>70.0</td>\n",
              "      <td>Female</td>\n",
              "      <td>Head of Household</td>\n",
              "      <td>Widowed</td>\n",
              "      <td>No formal education</td>\n",
              "      <td>Government Dependent</td>\n",
              "    </tr>\n",
              "  </tbody>\n",
              "</table>\n",
              "</div>"
            ],
            "text/plain": [
              "  country  year  ...  level_of_educuation           type_of_job\n",
              "0   Kenya  2018  ...  Secondary education         Self employed\n",
              "1   Kenya  2018  ...  No formal education  Government Dependent\n",
              "\n",
              "[2 rows x 12 columns]"
            ]
          },
          "metadata": {
            "tags": []
          },
          "execution_count": 16
        }
      ]
    },
    {
      "cell_type": "code",
      "metadata": {
        "id": "ZU7UcRVle1_t",
        "colab_type": "code",
        "outputId": "d6ba458a-6abe-4b93-e8d0-cb9454f985e2",
        "colab": {
          "base_uri": "https://localhost:8080/",
          "height": 160
        }
      },
      "source": [
        "#Load the last 2 values in the dataset\n",
        "FinancialDataset.tail(2)"
      ],
      "execution_count": 0,
      "outputs": [
        {
          "output_type": "execute_result",
          "data": {
            "text/html": [
              "<div>\n",
              "<style scoped>\n",
              "    .dataframe tbody tr th:only-of-type {\n",
              "        vertical-align: middle;\n",
              "    }\n",
              "\n",
              "    .dataframe tbody tr th {\n",
              "        vertical-align: top;\n",
              "    }\n",
              "\n",
              "    .dataframe thead th {\n",
              "        text-align: right;\n",
              "    }\n",
              "</style>\n",
              "<table border=\"1\" class=\"dataframe\">\n",
              "  <thead>\n",
              "    <tr style=\"text-align: right;\">\n",
              "      <th></th>\n",
              "      <th>country</th>\n",
              "      <th>year</th>\n",
              "      <th>has_a_bank_account</th>\n",
              "      <th>type_of_location</th>\n",
              "      <th>cell_phone_access</th>\n",
              "      <th>household_size</th>\n",
              "      <th>respondent_age</th>\n",
              "      <th>gender_of_respondent</th>\n",
              "      <th>the_relathip_with_head</th>\n",
              "      <th>marital_status</th>\n",
              "      <th>level_of_educuation</th>\n",
              "      <th>type_of_job</th>\n",
              "    </tr>\n",
              "  </thead>\n",
              "  <tbody>\n",
              "    <tr>\n",
              "      <th>23522</th>\n",
              "      <td>Uganda</td>\n",
              "      <td>2018</td>\n",
              "      <td>No</td>\n",
              "      <td>Urban</td>\n",
              "      <td>Yes</td>\n",
              "      <td>7.0</td>\n",
              "      <td>30.0</td>\n",
              "      <td>Female</td>\n",
              "      <td>Parent</td>\n",
              "      <td>Divorced/Seperated</td>\n",
              "      <td>Secondary education</td>\n",
              "      <td>Self employed</td>\n",
              "    </tr>\n",
              "    <tr>\n",
              "      <th>23523</th>\n",
              "      <td>Uganda</td>\n",
              "      <td>2018</td>\n",
              "      <td>No</td>\n",
              "      <td>Rural</td>\n",
              "      <td>Yes</td>\n",
              "      <td>10.0</td>\n",
              "      <td>20.0</td>\n",
              "      <td>Male</td>\n",
              "      <td>Child</td>\n",
              "      <td>Single/Never Married</td>\n",
              "      <td>Secondary education</td>\n",
              "      <td>No Income</td>\n",
              "    </tr>\n",
              "  </tbody>\n",
              "</table>\n",
              "</div>"
            ],
            "text/plain": [
              "      country  year  ...  level_of_educuation    type_of_job\n",
              "23522  Uganda  2018  ...  Secondary education  Self employed\n",
              "23523  Uganda  2018  ...  Secondary education      No Income\n",
              "\n",
              "[2 rows x 12 columns]"
            ]
          },
          "metadata": {
            "tags": []
          },
          "execution_count": 17
        }
      ]
    },
    {
      "cell_type": "markdown",
      "metadata": {
        "id": "U-MzjmzRfJFt",
        "colab_type": "text"
      },
      "source": [
        "**Data Description.**"
      ]
    },
    {
      "cell_type": "code",
      "metadata": {
        "id": "jtjlL5x0fLno",
        "colab_type": "code",
        "outputId": "4f8e6d05-348b-4b61-ec27-d952cd373ada",
        "colab": {
          "base_uri": "https://localhost:8080/",
          "height": 286
        }
      },
      "source": [
        "FinancialDataset.describe()"
      ],
      "execution_count": 0,
      "outputs": [
        {
          "output_type": "execute_result",
          "data": {
            "text/html": [
              "<div>\n",
              "<style scoped>\n",
              "    .dataframe tbody tr th:only-of-type {\n",
              "        vertical-align: middle;\n",
              "    }\n",
              "\n",
              "    .dataframe tbody tr th {\n",
              "        vertical-align: top;\n",
              "    }\n",
              "\n",
              "    .dataframe thead th {\n",
              "        text-align: right;\n",
              "    }\n",
              "</style>\n",
              "<table border=\"1\" class=\"dataframe\">\n",
              "  <thead>\n",
              "    <tr style=\"text-align: right;\">\n",
              "      <th></th>\n",
              "      <th>household_size</th>\n",
              "      <th>respondent_age</th>\n",
              "    </tr>\n",
              "  </thead>\n",
              "  <tbody>\n",
              "    <tr>\n",
              "      <th>count</th>\n",
              "      <td>23340.000000</td>\n",
              "      <td>23340.000000</td>\n",
              "    </tr>\n",
              "    <tr>\n",
              "      <th>mean</th>\n",
              "      <td>3.688560</td>\n",
              "      <td>38.807069</td>\n",
              "    </tr>\n",
              "    <tr>\n",
              "      <th>std</th>\n",
              "      <td>2.281275</td>\n",
              "      <td>16.519905</td>\n",
              "    </tr>\n",
              "    <tr>\n",
              "      <th>min</th>\n",
              "      <td>0.000000</td>\n",
              "      <td>16.000000</td>\n",
              "    </tr>\n",
              "    <tr>\n",
              "      <th>25%</th>\n",
              "      <td>2.000000</td>\n",
              "      <td>26.000000</td>\n",
              "    </tr>\n",
              "    <tr>\n",
              "      <th>50%</th>\n",
              "      <td>3.000000</td>\n",
              "      <td>35.000000</td>\n",
              "    </tr>\n",
              "    <tr>\n",
              "      <th>75%</th>\n",
              "      <td>5.000000</td>\n",
              "      <td>49.000000</td>\n",
              "    </tr>\n",
              "    <tr>\n",
              "      <th>max</th>\n",
              "      <td>21.000000</td>\n",
              "      <td>100.000000</td>\n",
              "    </tr>\n",
              "  </tbody>\n",
              "</table>\n",
              "</div>"
            ],
            "text/plain": [
              "       household_size  respondent_age\n",
              "count    23340.000000    23340.000000\n",
              "mean         3.688560       38.807069\n",
              "std          2.281275       16.519905\n",
              "min          0.000000       16.000000\n",
              "25%          2.000000       26.000000\n",
              "50%          3.000000       35.000000\n",
              "75%          5.000000       49.000000\n",
              "max         21.000000      100.000000"
            ]
          },
          "metadata": {
            "tags": []
          },
          "execution_count": 18
        }
      ]
    },
    {
      "cell_type": "markdown",
      "metadata": {
        "id": "UKWMD00YfvMb",
        "colab_type": "text"
      },
      "source": [
        "**Descriptive analysis of the Household Size in the Financial Dataset.**"
      ]
    },
    {
      "cell_type": "code",
      "metadata": {
        "id": "GUC807KawouM",
        "colab_type": "code",
        "outputId": "2ad682b7-da52-47f7-8ecd-3e42ba2f9270",
        "colab": {
          "base_uri": "https://localhost:8080/",
          "height": 33
        }
      },
      "source": [
        "FinancialDataset['household_size'].skew()"
      ],
      "execution_count": 0,
      "outputs": [
        {
          "output_type": "execute_result",
          "data": {
            "text/plain": [
              "0.9741827150450616"
            ]
          },
          "metadata": {
            "tags": []
          },
          "execution_count": 19
        }
      ]
    },
    {
      "cell_type": "code",
      "metadata": {
        "id": "ijIrWnzJfHS9",
        "colab_type": "code",
        "outputId": "d96dc8bc-4a7f-4faa-f9e1-e33c870f31d8",
        "colab": {
          "base_uri": "https://localhost:8080/",
          "height": 33
        }
      },
      "source": [
        "FinancialDataset['household_size'].kurt()"
      ],
      "execution_count": 0,
      "outputs": [
        {
          "output_type": "execute_result",
          "data": {
            "text/plain": [
              "1.1538357462528523"
            ]
          },
          "metadata": {
            "tags": []
          },
          "execution_count": 20
        }
      ]
    },
    {
      "cell_type": "markdown",
      "metadata": {
        "id": "X7dT3HEogu6-",
        "colab_type": "text"
      },
      "source": [
        "Meaning the kurtosis is leptokurtic, the tail in this distribution is heavy.\n",
        "\n",
        "Let's plot a boxplot, to gain a visual of the distribution."
      ]
    },
    {
      "cell_type": "code",
      "metadata": {
        "id": "GuldRWigg_ZF",
        "colab_type": "code",
        "outputId": "c9581230-097e-4cd9-be41-c20d1ef5175d",
        "colab": {
          "base_uri": "https://localhost:8080/",
          "height": 300
        }
      },
      "source": [
        "sns.boxplot(FinancialDataset['household_size'],showmeans = True)"
      ],
      "execution_count": 0,
      "outputs": [
        {
          "output_type": "execute_result",
          "data": {
            "text/plain": [
              "<matplotlib.axes._subplots.AxesSubplot at 0x7f892d3355c0>"
            ]
          },
          "metadata": {
            "tags": []
          },
          "execution_count": 21
        },
        {
          "output_type": "display_data",
          "data": {
            "image/png": "[encoded data removed]",
            "text/plain": [
              "<Figure size 432x288 with 1 Axes>"
            ]
          },
          "metadata": {
            "tags": []
          }
        }
      ]
    },
    {
      "cell_type": "markdown",
      "metadata": {
        "id": "jTLyMi04vyvl",
        "colab_type": "text"
      },
      "source": [
        "There seems to be numerous outliers beyond the threshold. However it would result in an inconclusive outcome if the outliers are actually removed since they can actually viable entries.\n"
      ]
    },
    {
      "cell_type": "markdown",
      "metadata": {
        "id": "ss2sKNZ2wdev",
        "colab_type": "text"
      },
      "source": [
        "**Descriptive Analysis of the Age of Respondent**"
      ]
    },
    {
      "cell_type": "code",
      "metadata": {
        "id": "rM-9mNLL2T0q",
        "colab_type": "code",
        "outputId": "b11d8afd-9c84-44e0-e1ff-318bb2b6e374",
        "colab": {
          "base_uri": "https://localhost:8080/",
          "height": 33
        }
      },
      "source": [
        "FinancialDataset['respondent_age'].skew()"
      ],
      "execution_count": 0,
      "outputs": [
        {
          "output_type": "execute_result",
          "data": {
            "text/plain": [
              "0.8406145812311228"
            ]
          },
          "metadata": {
            "tags": []
          },
          "execution_count": 22
        }
      ]
    },
    {
      "cell_type": "code",
      "metadata": {
        "id": "cmX2QlUO4e5A",
        "colab_type": "code",
        "outputId": "c9b8669b-f35a-4318-d4cd-2d5517cfd91f",
        "colab": {
          "base_uri": "https://localhost:8080/",
          "height": 33
        }
      },
      "source": [
        "FinancialDataset['respondent_age'].kurt()"
      ],
      "execution_count": 0,
      "outputs": [
        {
          "output_type": "execute_result",
          "data": {
            "text/plain": [
              "0.09826807013177241"
            ]
          },
          "metadata": {
            "tags": []
          },
          "execution_count": 23
        }
      ]
    },
    {
      "cell_type": "markdown",
      "metadata": {
        "colab_type": "text",
        "id": "DRnAwuFi49rK"
      },
      "source": [
        "Meaning the kurtosis is leptokurtic, the tail in this distribution is heavy.\n",
        "\n",
        "Let's plot a boxplot, to gain a visual of the distribution."
      ]
    },
    {
      "cell_type": "code",
      "metadata": {
        "id": "sw1DayeB5Cdl",
        "colab_type": "code",
        "outputId": "46a8c110-ba07-4ccf-f71d-b2b865939016",
        "colab": {
          "base_uri": "https://localhost:8080/",
          "height": 300
        }
      },
      "source": [
        "sns.boxplot(FinancialDataset['respondent_age'],showmeans = True)"
      ],
      "execution_count": 0,
      "outputs": [
        {
          "output_type": "execute_result",
          "data": {
            "text/plain": [
              "<matplotlib.axes._subplots.AxesSubplot at 0x7f892d24a8d0>"
            ]
          },
          "metadata": {
            "tags": []
          },
          "execution_count": 24
        },
        {
          "output_type": "display_data",
          "data": {
            "image/png": "[encoded data removed]",
            "text/plain": [
              "<Figure size 432x288 with 1 Axes>"
            ]
          },
          "metadata": {
            "tags": []
          }
        }
      ]
    },
    {
      "cell_type": "markdown",
      "metadata": {
        "colab_type": "text",
        "id": "aYfpNQ5q5PiH"
      },
      "source": [
        "There seems to be numerous outliers beyond the threshold. However it would result in an inconclusive outcome if the outliers are actually removed since they can actually viable entries.\n"
      ]
    },
    {
      "cell_type": "markdown",
      "metadata": {
        "id": "_PNTEIwOYDr1",
        "colab_type": "text"
      },
      "source": [
        "### Bivariate Analysis\n"
      ]
    },
    {
      "cell_type": "markdown",
      "metadata": {
        "id": "eWGChnbO5Vrz",
        "colab_type": "text"
      },
      "source": [
        "#### **Numerical & Numerical Analysis**"
      ]
    },
    {
      "cell_type": "markdown",
      "metadata": {
        "id": "uXn3oHha5eCP",
        "colab_type": "text"
      },
      "source": [
        "A scatter plot comparing the household size and the age of respondent."
      ]
    },
    {
      "cell_type": "code",
      "metadata": {
        "id": "PwC3m1pwYHSV",
        "colab_type": "code",
        "outputId": "6a90f47b-b22b-40e2-8235-d32d4aee954a",
        "colab": {
          "base_uri": "https://localhost:8080/",
          "height": 300
        }
      },
      "source": [
        "FinancialDataset.plot(x = 'household_size', y = 'respondent_age', kind = 'scatter')"
      ],
      "execution_count": 0,
      "outputs": [
        {
          "output_type": "execute_result",
          "data": {
            "text/plain": [
              "<matplotlib.axes._subplots.AxesSubplot at 0x7f892a9cfcc0>"
            ]
          },
          "metadata": {
            "tags": []
          },
          "execution_count": 25
        },
        {
          "output_type": "display_data",
          "data": {
            "image/png": "[encoded data removed]",
            "text/plain": [
              "<Figure size 432x288 with 1 Axes>"
            ]
          },
          "metadata": {
            "tags": []
          }
        }
      ]
    },
    {
      "cell_type": "markdown",
      "metadata": {
        "id": "3xUgrnTo6gfO",
        "colab_type": "text"
      },
      "source": [
        "HELP!!!\n",
        "Comment on the scatter plot?"
      ]
    },
    {
      "cell_type": "markdown",
      "metadata": {
        "id": "fSxzK5Yv6m14",
        "colab_type": "text"
      },
      "source": [
        "**Correlation**"
      ]
    },
    {
      "cell_type": "code",
      "metadata": {
        "id": "N8HdXS5M6qS9",
        "colab_type": "code",
        "outputId": "706b932d-668b-48f9-8e97-b8478cccd58d",
        "colab": {
          "base_uri": "https://localhost:8080/",
          "height": 33
        }
      },
      "source": [
        "coeff = FinancialDataset['household_size'].corr(FinancialDataset['respondent_age'])\n",
        "print(coeff)"
      ],
      "execution_count": 0,
      "outputs": [
        {
          "output_type": "stream",
          "text": [
            "-0.1196711523415487\n"
          ],
          "name": "stdout"
        }
      ]
    },
    {
      "cell_type": "markdown",
      "metadata": {
        "id": "HJ3kiiXs6_t7",
        "colab_type": "text"
      },
      "source": [
        "There seems to be a weak correlation coefficient between the two variables; weak correlation."
      ]
    },
    {
      "cell_type": "markdown",
      "metadata": {
        "id": "b9pXhPvbYHxs",
        "colab_type": "text"
      },
      "source": [
        "### Multivariate Analysis"
      ]
    },
    {
      "cell_type": "code",
      "metadata": {
        "id": "ECacX6L2YLeE",
        "colab_type": "code",
        "colab": {}
      },
      "source": [
        "#Preprocessing\n",
        "#Dividing my features into the feature set and corresponding labels: X and y respectively.\n",
        "X = FinancialDataset.drop('has_a_bank_account', axis = 1)\n",
        "y = FinancialDataset.iloc[:, 2]"
      ],
      "execution_count": 0,
      "outputs": []
    },
    {
      "cell_type": "code",
      "metadata": {
        "id": "KMkNUKug9l8B",
        "colab_type": "code",
        "colab": {}
      },
      "source": [
        "#Create Dummy Variables to perform Principal Component Analysis easily and accurately with all the associated variable\n",
        "X = pd.get_dummies(X)"
      ],
      "execution_count": 0,
      "outputs": []
    },
    {
      "cell_type": "code",
      "metadata": {
        "id": "oK_0rGWU9pkh",
        "colab_type": "code",
        "colab": {}
      },
      "source": [
        "from sklearn.model_selection import train_test_split\n",
        "X_train, X_test, y_train, y_test = train_test_split(X, y, test_size = 0.25)"
      ],
      "execution_count": 0,
      "outputs": []
    },
    {
      "cell_type": "code",
      "metadata": {
        "id": "G7Z108Ud9tvF",
        "colab_type": "code",
        "colab": {}
      },
      "source": [
        "#Standardisation\n",
        "\n",
        "from sklearn.preprocessing import StandardScaler\n",
        "sc = StandardScaler()\n",
        "X_train = sc.fit_transform(X_train)\n",
        "X_test = sc.transform(X_test)"
      ],
      "execution_count": 0,
      "outputs": []
    },
    {
      "cell_type": "code",
      "metadata": {
        "id": "L--MM1mx9xpp",
        "colab_type": "code",
        "outputId": "3854c9ad-7228-4160-bc06-2e7d26b842ad",
        "colab": {
          "base_uri": "https://localhost:8080/",
          "height": 136
        }
      },
      "source": [
        "#Training our model and Making predictions using 1 Principal component\n",
        "\n",
        "from sklearn.ensemble import RandomForestClassifier\n",
        "classifier = RandomForestClassifier()\n",
        "\n",
        "classifier.fit(X_train, y_train)"
      ],
      "execution_count": 124,
      "outputs": [
        {
          "output_type": "execute_result",
          "data": {
            "text/plain": [
              "RandomForestClassifier(bootstrap=True, class_weight=None, criterion='gini',\n",
              "                       max_depth=None, max_features='auto', max_leaf_nodes=None,\n",
              "                       min_impurity_decrease=0.0, min_impurity_split=None,\n",
              "                       min_samples_leaf=1, min_samples_split=2,\n",
              "                       min_weight_fraction_leaf=0.0, n_estimators=10,\n",
              "                       n_jobs=None, oob_score=False, random_state=None,\n",
              "                       verbose=0, warm_start=False)"
            ]
          },
          "metadata": {
            "tags": []
          },
          "execution_count": 124
        }
      ]
    },
    {
      "cell_type": "code",
      "metadata": {
        "id": "cl9TsMmf911N",
        "colab_type": "code",
        "colab": {}
      },
      "source": [
        "y_pred = classifier.predict(X_test)"
      ],
      "execution_count": 0,
      "outputs": []
    },
    {
      "cell_type": "code",
      "metadata": {
        "id": "oubMEdh396Ns",
        "colab_type": "code",
        "outputId": "68706058-4766-4546-f9ea-1e65e95c7b54",
        "colab": {
          "base_uri": "https://localhost:8080/",
          "height": 68
        }
      },
      "source": [
        "from sklearn.metrics import confusion_matrix\n",
        "from sklearn.metrics import accuracy_score\n",
        "\n",
        "print(confusion_matrix(y_test, y_pred))\n",
        "print(accuracy_score(y_test, y_pred))"
      ],
      "execution_count": 126,
      "outputs": [
        {
          "output_type": "stream",
          "text": [
            "[[4740  315]\n",
            " [ 450  330]]\n",
            "0.8688946015424165\n"
          ],
          "name": "stdout"
        }
      ]
    },
    {
      "cell_type": "code",
      "metadata": {
        "id": "-CAo_QaG99ox",
        "colab_type": "code",
        "outputId": "9d860d84-ae74-4e81-9442-9eaba0036f3a",
        "colab": {
          "base_uri": "https://localhost:8080/",
          "height": 102
        }
      },
      "source": [
        "from sklearn.linear_model import LogisticRegression\n",
        "classifier = LogisticRegression()\n",
        "\n",
        "classifier.fit(X_train, y_train)"
      ],
      "execution_count": 127,
      "outputs": [
        {
          "output_type": "execute_result",
          "data": {
            "text/plain": [
              "LogisticRegression(C=1.0, class_weight=None, dual=False, fit_intercept=True,\n",
              "                   intercept_scaling=1, l1_ratio=None, max_iter=100,\n",
              "                   multi_class='warn', n_jobs=None, penalty='l2',\n",
              "                   random_state=None, solver='warn', tol=0.0001, verbose=0,\n",
              "                   warm_start=False)"
            ]
          },
          "metadata": {
            "tags": []
          },
          "execution_count": 127
        }
      ]
    },
    {
      "cell_type": "code",
      "metadata": {
        "id": "mKFKSZoL-GOY",
        "colab_type": "code",
        "colab": {}
      },
      "source": [
        "y_pred = classifier.predict(X_test)"
      ],
      "execution_count": 0,
      "outputs": []
    },
    {
      "cell_type": "code",
      "metadata": {
        "id": "RRW7r8KI-JwJ",
        "colab_type": "code",
        "outputId": "9e007472-12d7-4794-d383-e5b88b6d056c",
        "colab": {
          "base_uri": "https://localhost:8080/",
          "height": 68
        }
      },
      "source": [
        "from sklearn.metrics import confusion_matrix\n",
        "from sklearn.metrics import accuracy_score\n",
        "\n",
        "print(confusion_matrix(y_test, y_pred))\n",
        "print(accuracy_score(y_test, y_pred))"
      ],
      "execution_count": 129,
      "outputs": [
        {
          "output_type": "stream",
          "text": [
            "[[4900  155]\n",
            " [ 494  286]]\n",
            "0.8887746358183376\n"
          ],
          "name": "stdout"
        }
      ]
    },
    {
      "cell_type": "code",
      "metadata": {
        "id": "POPAK-pT-PVV",
        "colab_type": "code",
        "outputId": "9770a01f-4e66-453a-e7b5-62e95da05d00",
        "colab": {
          "base_uri": "https://localhost:8080/",
          "height": 323
        }
      },
      "source": [
        "from sklearn.model_selection import train_test_split\n",
        "X_train, X_test, y_train, y_test = train_test_split(X, y, test_size = 0.25)\n",
        "\n",
        "\n",
        "from sklearn.preprocessing import StandardScaler\n",
        "sc = StandardScaler()\n",
        "X_train = sc.fit_transform(X_train)\n",
        "X_test = sc.transform(X_test)\n",
        "\n",
        "#Principal Component Analysis\n",
        "\n",
        "from sklearn.decomposition import PCA\n",
        "pca = PCA()\n",
        "X_train = pca.fit_transform(X_train)\n",
        "X_test = pca.transform(X_test)\n",
        "\n",
        "from sklearn.linear_model import LogisticRegression\n",
        "classifier = LogisticRegression()\n",
        "classifier.fit(X_train, y_train)\n",
        "\n",
        "y_pred = classifier.predict(X_test)\n",
        "\n",
        "from sklearn.metrics import confusion_matrix\n",
        "from sklearn.metrics import accuracy_score\n",
        "\n",
        "\n",
        "print('The confusion matrix is',confusion_matrix(y_test, y_pred))\n",
        "print('\\n')\n",
        "print('The accuracy score is',accuracy_score(y_test, y_pred))\n",
        "print('\\n')\n",
        "\n",
        "#Explained Variance Ratio\n",
        "print(pca.explained_variance_ratio_)"
      ],
      "execution_count": 130,
      "outputs": [
        {
          "output_type": "stream",
          "text": [
            "The confusion matrix is [[4848  133]\n",
            " [ 547  307]]\n",
            "\n",
            "\n",
            "The accuracy score is 0.8834618680377035\n",
            "\n",
            "\n",
            "[1.20304153e-01 7.66925692e-02 6.87668154e-02 6.41447242e-02\n",
            " 4.99507679e-02 4.47075936e-02 3.83953470e-02 3.43910377e-02\n",
            " 3.37717344e-02 3.07972531e-02 2.85239727e-02 2.65350473e-02\n",
            " 2.56507070e-02 2.42176138e-02 2.38080395e-02 2.36900479e-02\n",
            " 2.33931736e-02 2.32181251e-02 2.28804149e-02 2.28137840e-02\n",
            " 2.26343077e-02 2.20861649e-02 2.10700816e-02 2.02883888e-02\n",
            " 1.93066531e-02 1.83071758e-02 1.47237178e-02 1.37720725e-02\n",
            " 1.13832091e-02 1.08256617e-02 1.04102973e-02 8.53934872e-03\n",
            " 2.37258107e-32 4.94853302e-33 3.51598863e-33 2.15119486e-33\n",
            " 2.02671502e-33 1.98742388e-33 1.36171971e-33 7.17573826e-34\n",
            " 7.00609228e-34 2.42191569e-34 9.78295036e-35]\n"
          ],
          "name": "stdout"
        }
      ]
    },
    {
      "cell_type": "code",
      "metadata": {
        "id": "DsgxQj9h-dal",
        "colab_type": "code",
        "outputId": "91aabe89-60a0-44dc-aee6-679e6a53c475",
        "colab": {
          "base_uri": "https://localhost:8080/",
          "height": 34
        }
      },
      "source": [
        "len(X.columns)"
      ],
      "execution_count": 131,
      "outputs": [
        {
          "output_type": "execute_result",
          "data": {
            "text/plain": [
              "43"
            ]
          },
          "metadata": {
            "tags": []
          },
          "execution_count": 131
        }
      ]
    },
    {
      "cell_type": "code",
      "metadata": {
        "id": "PDhTaSTD-i8i",
        "colab_type": "code",
        "outputId": "81ab16bc-0771-4e05-afa7-d90723ca7c0c",
        "colab": {
          "base_uri": "https://localhost:8080/",
          "height": 731
        }
      },
      "source": [
        "import warnings\n",
        "warnings.filterwarnings(\"ignore\")\n",
        "\n",
        "accuracy = []\n",
        "\n",
        "for i in range(1, 43):\n",
        "\n",
        "  from sklearn.model_selection import train_test_split\n",
        "  X_train, X_test, y_train, y_test = train_test_split(X, y, test_size = 0.25)\n",
        "\n",
        "\n",
        "  from sklearn.preprocessing import StandardScaler\n",
        "  sc = StandardScaler()\n",
        "  X_train = sc.fit_transform(X_train)\n",
        "  X_test = sc.transform(X_test)\n",
        "\n",
        "  from sklearn.decomposition import PCA\n",
        "  pca = PCA(n_components = i)\n",
        "  X_train = pca.fit_transform(X_train)\n",
        "  X_test = pca.transform(X_test)\n",
        "\n",
        "  from sklearn.linear_model import LogisticRegression\n",
        "  classifier = LogisticRegression()\n",
        "  classifier.fit(X_train, y_train)\n",
        "\n",
        "  y_pred = classifier.predict(X_test)\n",
        "\n",
        "  from sklearn.metrics import confusion_matrix\n",
        "  from sklearn.metrics import accuracy_score\n",
        "  \n",
        "  accuracy.append(accuracy_score(y_test, y_pred))\n",
        "\n",
        "#print(confusion_matrix(y_test, y_pred))\n",
        "#print(accuracy_score(y_test, y_pred))\n",
        "#print(pca.explained_variance_ratio_)'''\n",
        "\n",
        "accuracy\n",
        "\n"
      ],
      "execution_count": 132,
      "outputs": [
        {
          "output_type": "execute_result",
          "data": {
            "text/plain": [
              "[0.8611825192802056,\n",
              " 0.8519280205655527,\n",
              " 0.8683804627249357,\n",
              " 0.8652956298200514,\n",
              " 0.8646101113967438,\n",
              " 0.880719794344473,\n",
              " 0.8774635818337618,\n",
              " 0.87146529562982,\n",
              " 0.8808911739502999,\n",
              " 0.8796915167095116,\n",
              " 0.8808911739502999,\n",
              " 0.8781491002570694,\n",
              " 0.8755784061696658,\n",
              " 0.8844901456726649,\n",
              " 0.875235646958012,\n",
              " 0.8877463581833762,\n",
              " 0.8822622107969151,\n",
              " 0.880719794344473,\n",
              " 0.8831191088260497,\n",
              " 0.8814053127677807,\n",
              " 0.8812339331619538,\n",
              " 0.8760925449871465,\n",
              " 0.8766066838046273,\n",
              " 0.8803770351328192,\n",
              " 0.8834618680377035,\n",
              " 0.8827763496143959,\n",
              " 0.8836332476435305,\n",
              " 0.8856898029134533,\n",
              " 0.8819194515852613,\n",
              " 0.8839760068551842,\n",
              " 0.8836332476435305,\n",
              " 0.8894601542416453,\n",
              " 0.8796915167095116,\n",
              " 0.8927163667523564,\n",
              " 0.8875749785775493,\n",
              " 0.8848329048843188,\n",
              " 0.8832904884318766,\n",
              " 0.8867180805484147,\n",
              " 0.8887746358183376,\n",
              " 0.8863753213367609,\n",
              " 0.8812339331619538,\n",
              " 0.8863753213367609]"
            ]
          },
          "metadata": {
            "tags": []
          },
          "execution_count": 132
        }
      ]
    },
    {
      "cell_type": "code",
      "metadata": {
        "id": "lRj4109pR62P",
        "colab_type": "code",
        "colab": {
          "base_uri": "https://localhost:8080/",
          "height": 476
        },
        "outputId": "5675d64d-102b-4759-f6c7-346ae82796b3"
      },
      "source": [
        "X.columns"
      ],
      "execution_count": 133,
      "outputs": [
        {
          "output_type": "execute_result",
          "data": {
            "text/plain": [
              "Index(['household_size', 'respondent_age', 'country_Kenya', 'country_Rwanda',\n",
              "       'country_Tanzania', 'country_Uganda', 'year_2016', 'year_2017',\n",
              "       'year_2018', 'type_of_location_Rural', 'type_of_location_Urban',\n",
              "       'cell_phone_access_No', 'cell_phone_access_Yes',\n",
              "       'gender_of_respondent_Female', 'gender_of_respondent_Male',\n",
              "       'the_relathip_with_head_Child',\n",
              "       'the_relathip_with_head_Head of Household',\n",
              "       'the_relathip_with_head_Other non-relatives',\n",
              "       'the_relathip_with_head_Other relative',\n",
              "       'the_relathip_with_head_Parent', 'the_relathip_with_head_Spouse',\n",
              "       'marital_status_Divorced/Seperated', 'marital_status_Dont know',\n",
              "       'marital_status_Married/Living together',\n",
              "       'marital_status_Single/Never Married', 'marital_status_Widowed',\n",
              "       'level_of_educuation_6', 'level_of_educuation_No formal education',\n",
              "       'level_of_educuation_Other/Dont know/RTA',\n",
              "       'level_of_educuation_Primary education',\n",
              "       'level_of_educuation_Secondary education',\n",
              "       'level_of_educuation_Tertiary education',\n",
              "       'level_of_educuation_Vocational/Specialised training',\n",
              "       'type_of_job_Dont Know/Refuse to answer',\n",
              "       'type_of_job_Farming and Fishing',\n",
              "       'type_of_job_Formally employed Government',\n",
              "       'type_of_job_Formally employed Private',\n",
              "       'type_of_job_Government Dependent', 'type_of_job_Informally employed',\n",
              "       'type_of_job_No Income', 'type_of_job_Other Income',\n",
              "       'type_of_job_Remittance Dependent', 'type_of_job_Self employed'],\n",
              "      dtype='object')"
            ]
          },
          "metadata": {
            "tags": []
          },
          "execution_count": 133
        }
      ]
    },
    {
      "cell_type": "code",
      "metadata": {
        "id": "8ph0kRlWZ7Ba",
        "colab_type": "code",
        "colab": {
          "base_uri": "https://localhost:8080/",
          "height": 765
        },
        "outputId": "123c5233-0073-447e-8e37-90cd02b30622"
      },
      "source": [
        "from sklearn.model_selection import train_test_split\n",
        "X_train, X_test, y_train, y_test = train_test_split(X, y, test_size = 0.25)\n",
        "\n",
        "\n",
        "from sklearn.preprocessing import StandardScaler\n",
        "sc = StandardScaler()\n",
        "X_train = sc.fit_transform(X_train)\n",
        "X_test = sc.transform(X_test)\n",
        "\n",
        "from sklearn.decomposition import PCA\n",
        "pca = PCA(n_components = 39)\n",
        "X_train = pca.fit_transform(X_train)\n",
        "X_test = pca.transform(X_test)\n",
        "\n",
        "from sklearn.linear_model import LogisticRegression\n",
        "classifier = LogisticRegression()\n",
        "classifier.fit(X_train, y_train)\n",
        "\n",
        "y_pred = classifier.predict(X_test)\n",
        "\n",
        "from sklearn.metrics import confusion_matrix\n",
        "from sklearn.metrics import accuracy_score\n",
        "  \n",
        "accuracy.append(accuracy_score(y_test, y_pred))\n",
        "\n",
        "\n"
      ],
      "execution_count": 138,
      "outputs": [
        {
          "output_type": "execute_result",
          "data": {
            "text/plain": [
              "[0.8611825192802056,\n",
              " 0.8519280205655527,\n",
              " 0.8683804627249357,\n",
              " 0.8652956298200514,\n",
              " 0.8646101113967438,\n",
              " 0.880719794344473,\n",
              " 0.8774635818337618,\n",
              " 0.87146529562982,\n",
              " 0.8808911739502999,\n",
              " 0.8796915167095116,\n",
              " 0.8808911739502999,\n",
              " 0.8781491002570694,\n",
              " 0.8755784061696658,\n",
              " 0.8844901456726649,\n",
              " 0.875235646958012,\n",
              " 0.8877463581833762,\n",
              " 0.8822622107969151,\n",
              " 0.880719794344473,\n",
              " 0.8831191088260497,\n",
              " 0.8814053127677807,\n",
              " 0.8812339331619538,\n",
              " 0.8760925449871465,\n",
              " 0.8766066838046273,\n",
              " 0.8803770351328192,\n",
              " 0.8834618680377035,\n",
              " 0.8827763496143959,\n",
              " 0.8836332476435305,\n",
              " 0.8856898029134533,\n",
              " 0.8819194515852613,\n",
              " 0.8839760068551842,\n",
              " 0.8836332476435305,\n",
              " 0.8894601542416453,\n",
              " 0.8796915167095116,\n",
              " 0.8927163667523564,\n",
              " 0.8875749785775493,\n",
              " 0.8848329048843188,\n",
              " 0.8832904884318766,\n",
              " 0.8867180805484147,\n",
              " 0.8887746358183376,\n",
              " 0.8863753213367609,\n",
              " 0.8812339331619538,\n",
              " 0.8863753213367609,\n",
              " 0.8844901456726649,\n",
              " 0.8844901456726649]"
            ]
          },
          "metadata": {
            "tags": []
          },
          "execution_count": 138
        }
      ]
    },
    {
      "cell_type": "markdown",
      "metadata": {
        "id": "fJSvCkpseb8X",
        "colab_type": "text"
      },
      "source": [
        "From the analysis above,\n",
        "the overall objective is to create a model which can highly predict whether an individual has a bank account or not, that is why we compare the accuracies to see which model is more reliable.\n"
      ]
    }
  ]
}